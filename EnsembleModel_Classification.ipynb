{
 "cells": [
  {
   "cell_type": "markdown",
   "metadata": {
    "ExecuteTime": {
     "end_time": "2020-03-09T07:02:39.550710Z",
     "start_time": "2020-03-09T07:02:39.545197Z"
    },
    "id": "oBp_DJDcvdLg"
   },
   "source": [
    "# Results\n",
    "- Models used with hyperparameters <br>\n",
    "<br> 1. Logistic Regression, Hyperparameter = penalty, C, l1, l2\n",
    "<br> 2. Logistic Regression, Hyperparameter = penalty, C, elasticnet\n",
    "<br> 3. KNN Classification, Hyperparameters = No. of neighbors\n",
    "<br> 4. Decision Tree, Hyperparameters = Max_Leaf_Nodes \n",
    "<br> 5. Decision Tree, Hyperparameters = Max_Depth of tree \n",
    "<br> 6. SVM Classification: Linear, Hyperparameters = C, and gamma\n",
    "<br> 7. SVM Classification - Kernel : rbf, Hyperparameters = C, and gamma\n",
    "<br> 8. SVM Classification - Kernel : Sigmoid, Hyperparameters = C, and gamma \n",
    "<br> 9. SVM Classification - Kernel : Poly, Hyperparameters = C, degree\n",
    "<br>10. Two models with Bagging  (Decision tree and Logistic regression)\n",
    "<br>11. Two models with Pasting  (Decision tree and Logistic regression)\n",
    "<br>12. Random Forest \n",
    "<br>13. Ada Boost\n",
    "<br>14. GradientBoost\n",
    "<br>15. Extra-Trees\n",
    "<br>16. XGBoost\n",
    "    \n",
    "<br> Best model based on Scoring Method = Accuracy:   \n",
    "<br> The best model choosen based on CV score (0.84) is :Logistic Regression.\n",
    "<br> The parameters for this model are {'C': 1, 'l1_ratio': 0.9, 'penalty': 'elasticnet', 'solver': 'saga'}          \n",
    "\n",
    "<br> The test score of best model is 0.84\n",
    "<br> The train score of best model is 0.84\n",
    "   \n",
    "<br>Best Model parameters\n",
    "\n",
    "(I got two models Decision tree using pasting and XG Boost which have test score of 0.856 and 0.851 respectively.\n",
    "I chose XGBoost model for prediction)\n",
    "<br>\n",
    "<br>Best model based on cross validation score : XGBoost\n",
    " \n",
    "<br>Best learning_rate : 0.1\n",
    "<br>Best max_depth : 6\n",
    "<br>Best min_child_weight : 7\n",
    "<br>Best n_estimators : 150\n",
    "<br>Best subsample : 0.9\n",
    "    \n",
    "Best Mean Cross-validation score of XGBoost : 0.85\n",
    "\n",
    "<br>Test score of best model\n",
    "\n",
    "- XGBoost Performance - Test:  0.8334\n",
    "\n",
    "<br>Train score of best model\n",
    "\n",
    "- XGBoost Performance - Train:  0.8951\n",
    "\n",
    "<br>Train and Test Errors\n",
    "\n",
    "train mse: 0.08614232209737828\n",
    "train rmse: 0.2935001228234467\n",
    "\n",
    "test mse: 0.1011\n",
    "test rmse: 0.31799\n",
    "\n",
    "<br>Prediction on test data\n",
    "\n",
    "- final_best_model.score(X_test,y_test)\n",
    "- 0.8334\n"
   ]
  },
  {
   "cell_type": "code",
   "execution_count": null,
   "metadata": {
    "colab": {
     "base_uri": "https://localhost:8080/",
     "height": 340
    },
    "executionInfo": {
     "elapsed": 10614,
     "status": "ok",
     "timestamp": 1603046252834,
     "user": {
      "displayName": "Shaannoor Mann",
      "photoUrl": "",
      "userId": "02520257695567980696"
     },
     "user_tz": 300
    },
    "id": "yEAooKELwMxo",
    "outputId": "645b17e1-eddc-4944-a1fb-d8afa718a3c2"
   },
   "outputs": [],
   "source": [
    "!pip install feature-engine"
   ]
  },
  {
   "cell_type": "code",
   "execution_count": 140,
   "metadata": {
    "ExecuteTime": {
     "end_time": "2020-03-09T07:31:07.121601Z",
     "start_time": "2020-03-09T07:31:07.116586Z"
    },
    "id": "TfcpdW7SvdLh"
   },
   "outputs": [],
   "source": [
    "import numpy as np\n",
    "import matplotlib.pyplot as plt\n",
    "import pandas as pd\n",
    "import seaborn as sns\n",
    "from pathlib import Path\n",
    "%matplotlib inline"
   ]
  },
  {
   "cell_type": "code",
   "execution_count": 41,
   "metadata": {
    "ExecuteTime": {
     "end_time": "2020-03-09T07:31:08.392767Z",
     "start_time": "2020-03-09T07:31:08.370710Z"
    },
    "colab": {
     "base_uri": "https://localhost:8080/",
     "height": 204
    },
    "executionInfo": {
     "elapsed": 903,
     "status": "ok",
     "timestamp": 1603046287783,
     "user": {
      "displayName": "Shaannoor Mann",
      "photoUrl": "",
      "userId": "02520257695567980696"
     },
     "user_tz": 300
    },
    "id": "AEEmaB9QvdLn",
    "outputId": "de608d99-7d6f-4006-d7af-b95bd677ffff"
   },
   "outputs": [
    {
     "data": {
      "text/html": [
       "<div>\n",
       "<style scoped>\n",
       "    .dataframe tbody tr th:only-of-type {\n",
       "        vertical-align: middle;\n",
       "    }\n",
       "\n",
       "    .dataframe tbody tr th {\n",
       "        vertical-align: top;\n",
       "    }\n",
       "\n",
       "    .dataframe thead th {\n",
       "        text-align: right;\n",
       "    }\n",
       "</style>\n",
       "<table border=\"1\" class=\"dataframe\">\n",
       "  <thead>\n",
       "    <tr style=\"text-align: right;\">\n",
       "      <th></th>\n",
       "      <th>PassengerId</th>\n",
       "      <th>Survived</th>\n",
       "      <th>Pclass</th>\n",
       "      <th>Name</th>\n",
       "      <th>Sex</th>\n",
       "      <th>Age</th>\n",
       "      <th>SibSp</th>\n",
       "      <th>Parch</th>\n",
       "      <th>Ticket</th>\n",
       "      <th>Fare</th>\n",
       "      <th>Cabin</th>\n",
       "      <th>Embarked</th>\n",
       "    </tr>\n",
       "  </thead>\n",
       "  <tbody>\n",
       "    <tr>\n",
       "      <th>0</th>\n",
       "      <td>1</td>\n",
       "      <td>0</td>\n",
       "      <td>3</td>\n",
       "      <td>Braund, Mr. Owen Harris</td>\n",
       "      <td>male</td>\n",
       "      <td>22.0</td>\n",
       "      <td>1</td>\n",
       "      <td>0</td>\n",
       "      <td>A/5 21171</td>\n",
       "      <td>7.2500</td>\n",
       "      <td>NaN</td>\n",
       "      <td>S</td>\n",
       "    </tr>\n",
       "    <tr>\n",
       "      <th>1</th>\n",
       "      <td>2</td>\n",
       "      <td>1</td>\n",
       "      <td>1</td>\n",
       "      <td>Cumings, Mrs. John Bradley (Florence Briggs Th...</td>\n",
       "      <td>female</td>\n",
       "      <td>38.0</td>\n",
       "      <td>1</td>\n",
       "      <td>0</td>\n",
       "      <td>PC 17599</td>\n",
       "      <td>71.2833</td>\n",
       "      <td>C85</td>\n",
       "      <td>C</td>\n",
       "    </tr>\n",
       "    <tr>\n",
       "      <th>2</th>\n",
       "      <td>3</td>\n",
       "      <td>1</td>\n",
       "      <td>3</td>\n",
       "      <td>Heikkinen, Miss. Laina</td>\n",
       "      <td>female</td>\n",
       "      <td>26.0</td>\n",
       "      <td>0</td>\n",
       "      <td>0</td>\n",
       "      <td>STON/O2. 3101282</td>\n",
       "      <td>7.9250</td>\n",
       "      <td>NaN</td>\n",
       "      <td>S</td>\n",
       "    </tr>\n",
       "    <tr>\n",
       "      <th>3</th>\n",
       "      <td>4</td>\n",
       "      <td>1</td>\n",
       "      <td>1</td>\n",
       "      <td>Futrelle, Mrs. Jacques Heath (Lily May Peel)</td>\n",
       "      <td>female</td>\n",
       "      <td>35.0</td>\n",
       "      <td>1</td>\n",
       "      <td>0</td>\n",
       "      <td>113803</td>\n",
       "      <td>53.1000</td>\n",
       "      <td>C123</td>\n",
       "      <td>S</td>\n",
       "    </tr>\n",
       "    <tr>\n",
       "      <th>4</th>\n",
       "      <td>5</td>\n",
       "      <td>0</td>\n",
       "      <td>3</td>\n",
       "      <td>Allen, Mr. William Henry</td>\n",
       "      <td>male</td>\n",
       "      <td>35.0</td>\n",
       "      <td>0</td>\n",
       "      <td>0</td>\n",
       "      <td>373450</td>\n",
       "      <td>8.0500</td>\n",
       "      <td>NaN</td>\n",
       "      <td>S</td>\n",
       "    </tr>\n",
       "  </tbody>\n",
       "</table>\n",
       "</div>"
      ],
      "text/plain": [
       "   PassengerId  Survived  Pclass  \\\n",
       "0            1         0       3   \n",
       "1            2         1       1   \n",
       "2            3         1       3   \n",
       "3            4         1       1   \n",
       "4            5         0       3   \n",
       "\n",
       "                                                Name     Sex   Age  SibSp  \\\n",
       "0                            Braund, Mr. Owen Harris    male  22.0      1   \n",
       "1  Cumings, Mrs. John Bradley (Florence Briggs Th...  female  38.0      1   \n",
       "2                             Heikkinen, Miss. Laina  female  26.0      0   \n",
       "3       Futrelle, Mrs. Jacques Heath (Lily May Peel)  female  35.0      1   \n",
       "4                           Allen, Mr. William Henry    male  35.0      0   \n",
       "\n",
       "   Parch            Ticket     Fare Cabin Embarked  \n",
       "0      0         A/5 21171   7.2500   NaN        S  \n",
       "1      0          PC 17599  71.2833   C85        C  \n",
       "2      0  STON/O2. 3101282   7.9250   NaN        S  \n",
       "3      0            113803  53.1000  C123        S  \n",
       "4      0            373450   8.0500   NaN        S  "
      ]
     },
     "execution_count": 41,
     "metadata": {},
     "output_type": "execute_result"
    }
   ],
   "source": [
    "data = pd.read_csv('C:/Users/Adithya Arunganesh/Desktop/Machine Learning/HW3/titanic.csv')\n",
    "\n",
    "data.head()"
   ]
  },
  {
   "cell_type": "code",
   "execution_count": 42,
   "metadata": {
    "ExecuteTime": {
     "end_time": "2020-03-09T07:31:10.124902Z",
     "start_time": "2020-03-09T07:31:10.117873Z"
    },
    "colab": {
     "base_uri": "https://localhost:8080/",
     "height": 340
    },
    "executionInfo": {
     "elapsed": 221,
     "status": "ok",
     "timestamp": 1603046289540,
     "user": {
      "displayName": "Shaannoor Mann",
      "photoUrl": "",
      "userId": "02520257695567980696"
     },
     "user_tz": 300
    },
    "id": "yjcADaGdvdLr",
    "outputId": "0a319787-7019-4881-d444-edeffb33daa7"
   },
   "outputs": [
    {
     "name": "stdout",
     "output_type": "stream",
     "text": [
      "<class 'pandas.core.frame.DataFrame'>\n",
      "RangeIndex: 891 entries, 0 to 890\n",
      "Data columns (total 12 columns):\n",
      " #   Column       Non-Null Count  Dtype  \n",
      "---  ------       --------------  -----  \n",
      " 0   PassengerId  891 non-null    int64  \n",
      " 1   Survived     891 non-null    int64  \n",
      " 2   Pclass       891 non-null    int64  \n",
      " 3   Name         891 non-null    object \n",
      " 4   Sex          891 non-null    object \n",
      " 5   Age          714 non-null    float64\n",
      " 6   SibSp        891 non-null    int64  \n",
      " 7   Parch        891 non-null    int64  \n",
      " 8   Ticket       891 non-null    object \n",
      " 9   Fare         891 non-null    float64\n",
      " 10  Cabin        204 non-null    object \n",
      " 11  Embarked     889 non-null    object \n",
      "dtypes: float64(2), int64(5), object(5)\n",
      "memory usage: 83.7+ KB\n"
     ]
    }
   ],
   "source": [
    "data.info()"
   ]
  },
  {
   "cell_type": "code",
   "execution_count": 43,
   "metadata": {
    "ExecuteTime": {
     "end_time": "2020-03-09T07:31:11.639431Z",
     "start_time": "2020-03-09T07:31:11.625391Z"
    },
    "colab": {
     "base_uri": "https://localhost:8080/",
     "height": 204
    },
    "executionInfo": {
     "elapsed": 264,
     "status": "ok",
     "timestamp": 1603046290518,
     "user": {
      "displayName": "Shaannoor Mann",
      "photoUrl": "",
      "userId": "02520257695567980696"
     },
     "user_tz": 300
    },
    "id": "vxqIBl_wvdLt",
    "outputId": "9e4b8763-af8d-4346-8512-7369f431bd9d"
   },
   "outputs": [
    {
     "data": {
      "text/html": [
       "<div>\n",
       "<style scoped>\n",
       "    .dataframe tbody tr th:only-of-type {\n",
       "        vertical-align: middle;\n",
       "    }\n",
       "\n",
       "    .dataframe tbody tr th {\n",
       "        vertical-align: top;\n",
       "    }\n",
       "\n",
       "    .dataframe thead th {\n",
       "        text-align: right;\n",
       "    }\n",
       "</style>\n",
       "<table border=\"1\" class=\"dataframe\">\n",
       "  <thead>\n",
       "    <tr style=\"text-align: right;\">\n",
       "      <th></th>\n",
       "      <th>PassengerId</th>\n",
       "      <th>Survived</th>\n",
       "      <th>Pclass</th>\n",
       "      <th>Name</th>\n",
       "      <th>Sex</th>\n",
       "      <th>Age</th>\n",
       "      <th>SibSp</th>\n",
       "      <th>Parch</th>\n",
       "      <th>Ticket</th>\n",
       "      <th>Fare</th>\n",
       "      <th>Cabin</th>\n",
       "      <th>Embarked</th>\n",
       "    </tr>\n",
       "  </thead>\n",
       "  <tbody>\n",
       "    <tr>\n",
       "      <th>0</th>\n",
       "      <td>1</td>\n",
       "      <td>0</td>\n",
       "      <td>3</td>\n",
       "      <td>Braund, Mr. Owen Harris</td>\n",
       "      <td>male</td>\n",
       "      <td>22.0</td>\n",
       "      <td>1</td>\n",
       "      <td>0</td>\n",
       "      <td>A/5 21171</td>\n",
       "      <td>7.2500</td>\n",
       "      <td>NaN</td>\n",
       "      <td>S</td>\n",
       "    </tr>\n",
       "    <tr>\n",
       "      <th>1</th>\n",
       "      <td>2</td>\n",
       "      <td>1</td>\n",
       "      <td>1</td>\n",
       "      <td>Cumings, Mrs. John Bradley (Florence Briggs Th...</td>\n",
       "      <td>female</td>\n",
       "      <td>38.0</td>\n",
       "      <td>1</td>\n",
       "      <td>0</td>\n",
       "      <td>PC 17599</td>\n",
       "      <td>71.2833</td>\n",
       "      <td>C85</td>\n",
       "      <td>C</td>\n",
       "    </tr>\n",
       "    <tr>\n",
       "      <th>2</th>\n",
       "      <td>3</td>\n",
       "      <td>1</td>\n",
       "      <td>3</td>\n",
       "      <td>Heikkinen, Miss. Laina</td>\n",
       "      <td>female</td>\n",
       "      <td>26.0</td>\n",
       "      <td>0</td>\n",
       "      <td>0</td>\n",
       "      <td>STON/O2. 3101282</td>\n",
       "      <td>7.9250</td>\n",
       "      <td>NaN</td>\n",
       "      <td>S</td>\n",
       "    </tr>\n",
       "    <tr>\n",
       "      <th>3</th>\n",
       "      <td>4</td>\n",
       "      <td>1</td>\n",
       "      <td>1</td>\n",
       "      <td>Futrelle, Mrs. Jacques Heath (Lily May Peel)</td>\n",
       "      <td>female</td>\n",
       "      <td>35.0</td>\n",
       "      <td>1</td>\n",
       "      <td>0</td>\n",
       "      <td>113803</td>\n",
       "      <td>53.1000</td>\n",
       "      <td>C123</td>\n",
       "      <td>S</td>\n",
       "    </tr>\n",
       "    <tr>\n",
       "      <th>4</th>\n",
       "      <td>5</td>\n",
       "      <td>0</td>\n",
       "      <td>3</td>\n",
       "      <td>Allen, Mr. William Henry</td>\n",
       "      <td>male</td>\n",
       "      <td>35.0</td>\n",
       "      <td>0</td>\n",
       "      <td>0</td>\n",
       "      <td>373450</td>\n",
       "      <td>8.0500</td>\n",
       "      <td>NaN</td>\n",
       "      <td>S</td>\n",
       "    </tr>\n",
       "  </tbody>\n",
       "</table>\n",
       "</div>"
      ],
      "text/plain": [
       "   PassengerId  Survived  Pclass  \\\n",
       "0            1         0       3   \n",
       "1            2         1       1   \n",
       "2            3         1       3   \n",
       "3            4         1       1   \n",
       "4            5         0       3   \n",
       "\n",
       "                                                Name     Sex   Age  SibSp  \\\n",
       "0                            Braund, Mr. Owen Harris    male  22.0      1   \n",
       "1  Cumings, Mrs. John Bradley (Florence Briggs Th...  female  38.0      1   \n",
       "2                             Heikkinen, Miss. Laina  female  26.0      0   \n",
       "3       Futrelle, Mrs. Jacques Heath (Lily May Peel)  female  35.0      1   \n",
       "4                           Allen, Mr. William Henry    male  35.0      0   \n",
       "\n",
       "   Parch            Ticket     Fare Cabin Embarked  \n",
       "0      0         A/5 21171   7.2500   NaN        S  \n",
       "1      0          PC 17599  71.2833   C85        C  \n",
       "2      0  STON/O2. 3101282   7.9250   NaN        S  \n",
       "3      0            113803  53.1000  C123        S  \n",
       "4      0            373450   8.0500   NaN        S  "
      ]
     },
     "execution_count": 43,
     "metadata": {},
     "output_type": "execute_result"
    }
   ],
   "source": [
    "data.head(5)"
   ]
  },
  {
   "cell_type": "code",
   "execution_count": 44,
   "metadata": {
    "ExecuteTime": {
     "end_time": "2020-03-09T07:31:14.669575Z",
     "start_time": "2020-03-09T07:31:14.655034Z"
    },
    "code_folding": [],
    "colab": {
     "base_uri": "https://localhost:8080/",
     "height": 731
    },
    "executionInfo": {
     "elapsed": 243,
     "status": "ok",
     "timestamp": 1603046293033,
     "user": {
      "displayName": "Shaannoor Mann",
      "photoUrl": "",
      "userId": "02520257695567980696"
     },
     "user_tz": 300
    },
    "id": "-5_8jaOVvdLw",
    "outputId": "ec67540f-d55f-4112-bfb1-27d7edbb88c0"
   },
   "outputs": [
    {
     "name": "stdout",
     "output_type": "stream",
     "text": [
      "PassengerId [ 1  2  3  4  5  6  7  8  9 10 11 12 13 14 15 16 17 18 19 20] \n",
      "\n",
      "Survived [0 1] \n",
      "\n",
      "Pclass [3 1 2] \n",
      "\n",
      "Name ['Braund, Mr. Owen Harris'\n",
      " 'Cumings, Mrs. John Bradley (Florence Briggs Thayer)'\n",
      " 'Heikkinen, Miss. Laina' 'Futrelle, Mrs. Jacques Heath (Lily May Peel)'\n",
      " 'Allen, Mr. William Henry' 'Moran, Mr. James' 'McCarthy, Mr. Timothy J'\n",
      " 'Palsson, Master. Gosta Leonard'\n",
      " 'Johnson, Mrs. Oscar W (Elisabeth Vilhelmina Berg)'\n",
      " 'Nasser, Mrs. Nicholas (Adele Achem)' 'Sandstrom, Miss. Marguerite Rut'\n",
      " 'Bonnell, Miss. Elizabeth' 'Saundercock, Mr. William Henry'\n",
      " 'Andersson, Mr. Anders Johan' 'Vestrom, Miss. Hulda Amanda Adolfina'\n",
      " 'Hewlett, Mrs. (Mary D Kingcome) ' 'Rice, Master. Eugene'\n",
      " 'Williams, Mr. Charles Eugene'\n",
      " 'Vander Planke, Mrs. Julius (Emelia Maria Vandemoortele)'\n",
      " 'Masselmani, Mrs. Fatima'] \n",
      "\n",
      "Sex ['male' 'female'] \n",
      "\n",
      "Age [22. 38. 26. 35. nan 54.  2. 27. 14.  4. 58. 20. 39. 55. 31. 34. 15. 28.\n",
      "  8. 19.] \n",
      "\n",
      "SibSp [1 0 3 4 2 5 8] \n",
      "\n",
      "Parch [0 1 2 5 3 4 6] \n",
      "\n",
      "Ticket ['A/5 21171' 'PC 17599' 'STON/O2. 3101282' '113803' '373450' '330877'\n",
      " '17463' '349909' '347742' '237736' 'PP 9549' '113783' 'A/5. 2151'\n",
      " '347082' '350406' '248706' '382652' '244373' '345763' '2649'] \n",
      "\n",
      "Fare [ 7.25   71.2833  7.925  53.1     8.05    8.4583 51.8625 21.075  11.1333\n",
      " 30.0708 16.7    26.55   31.275   7.8542 16.     29.125  13.     18.\n",
      "  7.225  26.    ] \n",
      "\n",
      "Cabin [nan 'C85' 'C123' 'E46' 'G6' 'C103' 'D56' 'A6' 'C23 C25 C27' 'B78' 'D33'\n",
      " 'B30' 'C52' 'B28' 'C83' 'F33' 'F G73' 'E31' 'A5' 'D10 D12'] \n",
      "\n",
      "Embarked ['S' 'C' 'Q' nan] \n",
      "\n"
     ]
    }
   ],
   "source": [
    "# let's inspect the variable values\n",
    "\n",
    "for var in data.columns:\n",
    "    print(var, data[var].unique()[0:20], '\\n')"
   ]
  },
  {
   "cell_type": "code",
   "execution_count": 45,
   "metadata": {
    "ExecuteTime": {
     "end_time": "2020-03-09T07:31:16.385338Z",
     "start_time": "2020-03-09T07:31:16.372305Z"
    },
    "colab": {
     "base_uri": "https://localhost:8080/",
     "height": 85
    },
    "executionInfo": {
     "elapsed": 259,
     "status": "ok",
     "timestamp": 1603046295324,
     "user": {
      "displayName": "Shaannoor Mann",
      "photoUrl": "",
      "userId": "02520257695567980696"
     },
     "user_tz": 300
    },
    "id": "-mvJGEzIvdL0",
    "outputId": "9d9e986d-fa8e-47d0-e390-8f46300ffcb7"
   },
   "outputs": [
    {
     "name": "stdout",
     "output_type": "stream",
     "text": [
      "There are 3 discrete variables\n",
      "There are 3 continuous variables\n",
      "There are 4 categorical variables\n",
      "There are 1 mixed variables\n"
     ]
    }
   ],
   "source": [
    "# make list of variables  types\n",
    "\n",
    "# numerical: discrete vs continuous\n",
    "discrete = [var for var in data.columns if data[var].dtype!='O' and var!='Survived' and data[var].nunique()<10]\n",
    "continuous = [var for var in data.columns if data[var].dtype!='O' and var!='Survived' and var not in discrete]\n",
    "\n",
    "# mixed\n",
    "mixed = ['Cabin']\n",
    "\n",
    "# categorical\n",
    "categorical = [var for var in data.columns if data[var].dtype=='O' and var not in mixed]\n",
    "\n",
    "print(f'There are {len(discrete)} discrete variables')\n",
    "print(f'There are {len(continuous)} continuous variables')\n",
    "print(f'There are {len(categorical)} categorical variables')\n",
    "print(f'There are {len(mixed)} mixed variables')"
   ]
  },
  {
   "cell_type": "code",
   "execution_count": 46,
   "metadata": {
    "ExecuteTime": {
     "end_time": "2020-03-09T07:31:19.229605Z",
     "start_time": "2020-03-09T07:31:19.220581Z"
    },
    "colab": {
     "base_uri": "https://localhost:8080/",
     "height": 238
    },
    "executionInfo": {
     "elapsed": 266,
     "status": "ok",
     "timestamp": 1603046298129,
     "user": {
      "displayName": "Shaannoor Mann",
      "photoUrl": "",
      "userId": "02520257695567980696"
     },
     "user_tz": 300
    },
    "id": "jTXHD2gBvdL2",
    "outputId": "a1cee5a9-89a1-4f19-fcd4-2bfaee3be076"
   },
   "outputs": [
    {
     "data": {
      "text/plain": [
       "PassengerId    0.000000\n",
       "Survived       0.000000\n",
       "Pclass         0.000000\n",
       "Name           0.000000\n",
       "Sex            0.000000\n",
       "Age            0.198653\n",
       "SibSp          0.000000\n",
       "Parch          0.000000\n",
       "Ticket         0.000000\n",
       "Fare           0.000000\n",
       "Cabin          0.771044\n",
       "Embarked       0.002245\n",
       "dtype: float64"
      ]
     },
     "execution_count": 46,
     "metadata": {},
     "output_type": "execute_result"
    }
   ],
   "source": [
    "# missing values\n",
    "data.isnull().mean()"
   ]
  },
  {
   "cell_type": "code",
   "execution_count": 47,
   "metadata": {
    "ExecuteTime": {
     "end_time": "2020-03-09T07:31:21.025926Z",
     "start_time": "2020-03-09T07:31:21.013893Z"
    },
    "colab": {
     "base_uri": "https://localhost:8080/",
     "height": 119
    },
    "executionInfo": {
     "elapsed": 255,
     "status": "ok",
     "timestamp": 1603046300327,
     "user": {
      "displayName": "Shaannoor Mann",
      "photoUrl": "",
      "userId": "02520257695567980696"
     },
     "user_tz": 300
    },
    "id": "7ef3HdeKvdL6",
    "outputId": "2554e040-3bad-4286-c26d-8394bd28a4f2"
   },
   "outputs": [
    {
     "data": {
      "text/plain": [
       "Name        891\n",
       "Sex           2\n",
       "Ticket      681\n",
       "Embarked      3\n",
       "Cabin       147\n",
       "dtype: int64"
      ]
     },
     "execution_count": 47,
     "metadata": {},
     "output_type": "execute_result"
    }
   ],
   "source": [
    "# cardinality (number of different categories)\n",
    "\n",
    "data[categorical+mixed].nunique()"
   ]
  },
  {
   "cell_type": "code",
   "execution_count": 48,
   "metadata": {
    "ExecuteTime": {
     "end_time": "2020-03-09T07:31:22.655777Z",
     "start_time": "2020-03-09T07:31:22.628203Z"
    },
    "colab": {
     "base_uri": "https://localhost:8080/",
     "height": 204
    },
    "executionInfo": {
     "elapsed": 255,
     "status": "ok",
     "timestamp": 1603046302494,
     "user": {
      "displayName": "Shaannoor Mann",
      "photoUrl": "",
      "userId": "02520257695567980696"
     },
     "user_tz": 300
    },
    "id": "WuuQyjs5vdL8",
    "outputId": "0a4f52af-bf47-493c-f566-5072f84a0541"
   },
   "outputs": [
    {
     "data": {
      "text/html": [
       "<div>\n",
       "<style scoped>\n",
       "    .dataframe tbody tr th:only-of-type {\n",
       "        vertical-align: middle;\n",
       "    }\n",
       "\n",
       "    .dataframe tbody tr th {\n",
       "        vertical-align: top;\n",
       "    }\n",
       "\n",
       "    .dataframe thead th {\n",
       "        text-align: right;\n",
       "    }\n",
       "</style>\n",
       "<table border=\"1\" class=\"dataframe\">\n",
       "  <thead>\n",
       "    <tr style=\"text-align: right;\">\n",
       "      <th></th>\n",
       "      <th>PassengerId</th>\n",
       "      <th>Survived</th>\n",
       "      <th>Pclass</th>\n",
       "      <th>Name</th>\n",
       "      <th>Sex</th>\n",
       "      <th>Age</th>\n",
       "      <th>SibSp</th>\n",
       "      <th>Parch</th>\n",
       "      <th>Ticket</th>\n",
       "      <th>Fare</th>\n",
       "      <th>Cabin</th>\n",
       "      <th>Embarked</th>\n",
       "      <th>Cabin_num</th>\n",
       "      <th>Cabin_cat</th>\n",
       "    </tr>\n",
       "  </thead>\n",
       "  <tbody>\n",
       "    <tr>\n",
       "      <th>0</th>\n",
       "      <td>1</td>\n",
       "      <td>0</td>\n",
       "      <td>3</td>\n",
       "      <td>Braund, Mr. Owen Harris</td>\n",
       "      <td>male</td>\n",
       "      <td>22.0</td>\n",
       "      <td>1</td>\n",
       "      <td>0</td>\n",
       "      <td>A/5 21171</td>\n",
       "      <td>7.2500</td>\n",
       "      <td>NaN</td>\n",
       "      <td>S</td>\n",
       "      <td>NaN</td>\n",
       "      <td>NaN</td>\n",
       "    </tr>\n",
       "    <tr>\n",
       "      <th>1</th>\n",
       "      <td>2</td>\n",
       "      <td>1</td>\n",
       "      <td>1</td>\n",
       "      <td>Cumings, Mrs. John Bradley (Florence Briggs Th...</td>\n",
       "      <td>female</td>\n",
       "      <td>38.0</td>\n",
       "      <td>1</td>\n",
       "      <td>0</td>\n",
       "      <td>PC 17599</td>\n",
       "      <td>71.2833</td>\n",
       "      <td>C85</td>\n",
       "      <td>C</td>\n",
       "      <td>85.0</td>\n",
       "      <td>C</td>\n",
       "    </tr>\n",
       "    <tr>\n",
       "      <th>2</th>\n",
       "      <td>3</td>\n",
       "      <td>1</td>\n",
       "      <td>3</td>\n",
       "      <td>Heikkinen, Miss. Laina</td>\n",
       "      <td>female</td>\n",
       "      <td>26.0</td>\n",
       "      <td>0</td>\n",
       "      <td>0</td>\n",
       "      <td>STON/O2. 3101282</td>\n",
       "      <td>7.9250</td>\n",
       "      <td>NaN</td>\n",
       "      <td>S</td>\n",
       "      <td>NaN</td>\n",
       "      <td>NaN</td>\n",
       "    </tr>\n",
       "    <tr>\n",
       "      <th>3</th>\n",
       "      <td>4</td>\n",
       "      <td>1</td>\n",
       "      <td>1</td>\n",
       "      <td>Futrelle, Mrs. Jacques Heath (Lily May Peel)</td>\n",
       "      <td>female</td>\n",
       "      <td>35.0</td>\n",
       "      <td>1</td>\n",
       "      <td>0</td>\n",
       "      <td>113803</td>\n",
       "      <td>53.1000</td>\n",
       "      <td>C123</td>\n",
       "      <td>S</td>\n",
       "      <td>123.0</td>\n",
       "      <td>C</td>\n",
       "    </tr>\n",
       "    <tr>\n",
       "      <th>4</th>\n",
       "      <td>5</td>\n",
       "      <td>0</td>\n",
       "      <td>3</td>\n",
       "      <td>Allen, Mr. William Henry</td>\n",
       "      <td>male</td>\n",
       "      <td>35.0</td>\n",
       "      <td>0</td>\n",
       "      <td>0</td>\n",
       "      <td>373450</td>\n",
       "      <td>8.0500</td>\n",
       "      <td>NaN</td>\n",
       "      <td>S</td>\n",
       "      <td>NaN</td>\n",
       "      <td>NaN</td>\n",
       "    </tr>\n",
       "  </tbody>\n",
       "</table>\n",
       "</div>"
      ],
      "text/plain": [
       "   PassengerId  Survived  Pclass  \\\n",
       "0            1         0       3   \n",
       "1            2         1       1   \n",
       "2            3         1       3   \n",
       "3            4         1       1   \n",
       "4            5         0       3   \n",
       "\n",
       "                                                Name     Sex   Age  SibSp  \\\n",
       "0                            Braund, Mr. Owen Harris    male  22.0      1   \n",
       "1  Cumings, Mrs. John Bradley (Florence Briggs Th...  female  38.0      1   \n",
       "2                             Heikkinen, Miss. Laina  female  26.0      0   \n",
       "3       Futrelle, Mrs. Jacques Heath (Lily May Peel)  female  35.0      1   \n",
       "4                           Allen, Mr. William Henry    male  35.0      0   \n",
       "\n",
       "   Parch            Ticket     Fare Cabin Embarked  Cabin_num Cabin_cat  \n",
       "0      0         A/5 21171   7.2500   NaN        S        NaN       NaN  \n",
       "1      0          PC 17599  71.2833   C85        C       85.0         C  \n",
       "2      0  STON/O2. 3101282   7.9250   NaN        S        NaN       NaN  \n",
       "3      0            113803  53.1000  C123        S      123.0         C  \n",
       "4      0            373450   8.0500   NaN        S        NaN       NaN  "
      ]
     },
     "execution_count": 48,
     "metadata": {},
     "output_type": "execute_result"
    }
   ],
   "source": [
    "# Cabin- mixed variable\n",
    "# \\d regular expression for digts . \\d+ one or more digits\n",
    "data['Cabin_num'] = data['Cabin'].str.extract('(\\d+)') # captures numerical part\n",
    "data['Cabin_num'] = data['Cabin_num'].astype('float')\n",
    "data['Cabin_cat'] = data['Cabin'].str[0] # captures the first letter\n",
    "\n",
    "# show dataframe\n",
    "data.head()"
   ]
  },
  {
   "cell_type": "code",
   "execution_count": 49,
   "metadata": {
    "ExecuteTime": {
     "end_time": "2020-03-09T07:31:24.271498Z",
     "start_time": "2020-03-09T07:31:24.238908Z"
    },
    "colab": {
     "base_uri": "https://localhost:8080/",
     "height": 204
    },
    "executionInfo": {
     "elapsed": 197,
     "status": "ok",
     "timestamp": 1603046304507,
     "user": {
      "displayName": "Shaannoor Mann",
      "photoUrl": "",
      "userId": "02520257695567980696"
     },
     "user_tz": 300
    },
    "id": "1mFxAUe8vdL_",
    "outputId": "809fdbba-570c-4c59-8c9a-2580be4e063d"
   },
   "outputs": [
    {
     "data": {
      "text/html": [
       "<div>\n",
       "<style scoped>\n",
       "    .dataframe tbody tr th:only-of-type {\n",
       "        vertical-align: middle;\n",
       "    }\n",
       "\n",
       "    .dataframe tbody tr th {\n",
       "        vertical-align: top;\n",
       "    }\n",
       "\n",
       "    .dataframe thead th {\n",
       "        text-align: right;\n",
       "    }\n",
       "</style>\n",
       "<table border=\"1\" class=\"dataframe\">\n",
       "  <thead>\n",
       "    <tr style=\"text-align: right;\">\n",
       "      <th></th>\n",
       "      <th>PassengerId</th>\n",
       "      <th>Survived</th>\n",
       "      <th>Pclass</th>\n",
       "      <th>Name</th>\n",
       "      <th>Sex</th>\n",
       "      <th>Age</th>\n",
       "      <th>SibSp</th>\n",
       "      <th>Parch</th>\n",
       "      <th>Ticket</th>\n",
       "      <th>Fare</th>\n",
       "      <th>Cabin</th>\n",
       "      <th>Embarked</th>\n",
       "      <th>Cabin_num</th>\n",
       "      <th>Cabin_cat</th>\n",
       "      <th>Title</th>\n",
       "    </tr>\n",
       "  </thead>\n",
       "  <tbody>\n",
       "    <tr>\n",
       "      <th>0</th>\n",
       "      <td>1</td>\n",
       "      <td>0</td>\n",
       "      <td>3</td>\n",
       "      <td>Braund, Mr. Owen Harris</td>\n",
       "      <td>male</td>\n",
       "      <td>22.0</td>\n",
       "      <td>1</td>\n",
       "      <td>0</td>\n",
       "      <td>A/5 21171</td>\n",
       "      <td>7.2500</td>\n",
       "      <td>NaN</td>\n",
       "      <td>S</td>\n",
       "      <td>NaN</td>\n",
       "      <td>NaN</td>\n",
       "      <td>Mr.</td>\n",
       "    </tr>\n",
       "    <tr>\n",
       "      <th>1</th>\n",
       "      <td>2</td>\n",
       "      <td>1</td>\n",
       "      <td>1</td>\n",
       "      <td>Cumings, Mrs. John Bradley (Florence Briggs Th...</td>\n",
       "      <td>female</td>\n",
       "      <td>38.0</td>\n",
       "      <td>1</td>\n",
       "      <td>0</td>\n",
       "      <td>PC 17599</td>\n",
       "      <td>71.2833</td>\n",
       "      <td>C85</td>\n",
       "      <td>C</td>\n",
       "      <td>85.0</td>\n",
       "      <td>C</td>\n",
       "      <td>Mrs.</td>\n",
       "    </tr>\n",
       "    <tr>\n",
       "      <th>2</th>\n",
       "      <td>3</td>\n",
       "      <td>1</td>\n",
       "      <td>3</td>\n",
       "      <td>Heikkinen, Miss. Laina</td>\n",
       "      <td>female</td>\n",
       "      <td>26.0</td>\n",
       "      <td>0</td>\n",
       "      <td>0</td>\n",
       "      <td>STON/O2. 3101282</td>\n",
       "      <td>7.9250</td>\n",
       "      <td>NaN</td>\n",
       "      <td>S</td>\n",
       "      <td>NaN</td>\n",
       "      <td>NaN</td>\n",
       "      <td>Miss.</td>\n",
       "    </tr>\n",
       "    <tr>\n",
       "      <th>3</th>\n",
       "      <td>4</td>\n",
       "      <td>1</td>\n",
       "      <td>1</td>\n",
       "      <td>Futrelle, Mrs. Jacques Heath (Lily May Peel)</td>\n",
       "      <td>female</td>\n",
       "      <td>35.0</td>\n",
       "      <td>1</td>\n",
       "      <td>0</td>\n",
       "      <td>113803</td>\n",
       "      <td>53.1000</td>\n",
       "      <td>C123</td>\n",
       "      <td>S</td>\n",
       "      <td>123.0</td>\n",
       "      <td>C</td>\n",
       "      <td>Mrs.</td>\n",
       "    </tr>\n",
       "    <tr>\n",
       "      <th>4</th>\n",
       "      <td>5</td>\n",
       "      <td>0</td>\n",
       "      <td>3</td>\n",
       "      <td>Allen, Mr. William Henry</td>\n",
       "      <td>male</td>\n",
       "      <td>35.0</td>\n",
       "      <td>0</td>\n",
       "      <td>0</td>\n",
       "      <td>373450</td>\n",
       "      <td>8.0500</td>\n",
       "      <td>NaN</td>\n",
       "      <td>S</td>\n",
       "      <td>NaN</td>\n",
       "      <td>NaN</td>\n",
       "      <td>Mr.</td>\n",
       "    </tr>\n",
       "  </tbody>\n",
       "</table>\n",
       "</div>"
      ],
      "text/plain": [
       "   PassengerId  Survived  Pclass  \\\n",
       "0            1         0       3   \n",
       "1            2         1       1   \n",
       "2            3         1       3   \n",
       "3            4         1       1   \n",
       "4            5         0       3   \n",
       "\n",
       "                                                Name     Sex   Age  SibSp  \\\n",
       "0                            Braund, Mr. Owen Harris    male  22.0      1   \n",
       "1  Cumings, Mrs. John Bradley (Florence Briggs Th...  female  38.0      1   \n",
       "2                             Heikkinen, Miss. Laina  female  26.0      0   \n",
       "3       Futrelle, Mrs. Jacques Heath (Lily May Peel)  female  35.0      1   \n",
       "4                           Allen, Mr. William Henry    male  35.0      0   \n",
       "\n",
       "   Parch            Ticket     Fare Cabin Embarked  Cabin_num Cabin_cat  Title  \n",
       "0      0         A/5 21171   7.2500   NaN        S        NaN       NaN    Mr.  \n",
       "1      0          PC 17599  71.2833   C85        C       85.0         C   Mrs.  \n",
       "2      0  STON/O2. 3101282   7.9250   NaN        S        NaN       NaN  Miss.  \n",
       "3      0            113803  53.1000  C123        S      123.0         C   Mrs.  \n",
       "4      0            373450   8.0500   NaN        S        NaN       NaN    Mr.  "
      ]
     },
     "execution_count": 49,
     "metadata": {},
     "output_type": "execute_result"
    }
   ],
   "source": [
    "data['Title'] = data['Name'].str.split(',').str[1].str.split('\\s+').str[1]\n",
    "data.head()"
   ]
  },
  {
   "cell_type": "code",
   "execution_count": 50,
   "metadata": {
    "ExecuteTime": {
     "end_time": "2020-03-09T07:31:28.967195Z",
     "start_time": "2020-03-09T07:31:28.956166Z"
    },
    "colab": {
     "base_uri": "https://localhost:8080/",
     "height": 323
    },
    "executionInfo": {
     "elapsed": 276,
     "status": "ok",
     "timestamp": 1603046306461,
     "user": {
      "displayName": "Shaannoor Mann",
      "photoUrl": "",
      "userId": "02520257695567980696"
     },
     "user_tz": 300
    },
    "id": "X6fY00htvdMB",
    "outputId": "1e0deedb-62ac-484c-d25a-d2757e6d0060"
   },
   "outputs": [
    {
     "data": {
      "text/plain": [
       "Mr.          517\n",
       "Miss.        182\n",
       "Mrs.         125\n",
       "Master.       40\n",
       "Dr.            7\n",
       "Rev.           6\n",
       "Mlle.          2\n",
       "Col.           2\n",
       "Major.         2\n",
       "the            1\n",
       "Don.           1\n",
       "Capt.          1\n",
       "Ms.            1\n",
       "Sir.           1\n",
       "Lady.          1\n",
       "Jonkheer.      1\n",
       "Mme.           1\n",
       "Name: Title, dtype: int64"
      ]
     },
     "execution_count": 50,
     "metadata": {},
     "output_type": "execute_result"
    }
   ],
   "source": [
    "data['Title'].value_counts()"
   ]
  },
  {
   "cell_type": "code",
   "execution_count": 51,
   "metadata": {
    "ExecuteTime": {
     "end_time": "2020-03-09T07:31:31.253019Z",
     "start_time": "2020-03-09T07:31:31.245000Z"
    },
    "colab": {
     "base_uri": "https://localhost:8080/",
     "height": 170
    },
    "executionInfo": {
     "elapsed": 268,
     "status": "ok",
     "timestamp": 1603046308595,
     "user": {
      "displayName": "Shaannoor Mann",
      "photoUrl": "",
      "userId": "02520257695567980696"
     },
     "user_tz": 300
    },
    "id": "zboILU_jvdME",
    "outputId": "f55efcf1-5c26-4806-8a2c-cc905329f3eb"
   },
   "outputs": [
    {
     "data": {
      "text/plain": [
       "C    59\n",
       "B    47\n",
       "D    33\n",
       "E    32\n",
       "A    15\n",
       "F    13\n",
       "G     4\n",
       "T     1\n",
       "Name: Cabin_cat, dtype: int64"
      ]
     },
     "execution_count": 51,
     "metadata": {},
     "output_type": "execute_result"
    }
   ],
   "source": [
    "data['Cabin_cat'].value_counts()"
   ]
  },
  {
   "cell_type": "code",
   "execution_count": 52,
   "metadata": {
    "ExecuteTime": {
     "end_time": "2020-03-09T07:31:33.394776Z",
     "start_time": "2020-03-09T07:31:33.373716Z"
    },
    "colab": {
     "base_uri": "https://localhost:8080/",
     "height": 204
    },
    "executionInfo": {
     "elapsed": 414,
     "status": "ok",
     "timestamp": 1603046309091,
     "user": {
      "displayName": "Shaannoor Mann",
      "photoUrl": "",
      "userId": "02520257695567980696"
     },
     "user_tz": 300
    },
    "id": "B1OMQllIvdMI",
    "outputId": "30e68e43-0ac5-4171-87fe-10ac69aa2e70"
   },
   "outputs": [
    {
     "data": {
      "text/html": [
       "<div>\n",
       "<style scoped>\n",
       "    .dataframe tbody tr th:only-of-type {\n",
       "        vertical-align: middle;\n",
       "    }\n",
       "\n",
       "    .dataframe tbody tr th {\n",
       "        vertical-align: top;\n",
       "    }\n",
       "\n",
       "    .dataframe thead th {\n",
       "        text-align: right;\n",
       "    }\n",
       "</style>\n",
       "<table border=\"1\" class=\"dataframe\">\n",
       "  <thead>\n",
       "    <tr style=\"text-align: right;\">\n",
       "      <th></th>\n",
       "      <th>PassengerId</th>\n",
       "      <th>Survived</th>\n",
       "      <th>Pclass</th>\n",
       "      <th>Name</th>\n",
       "      <th>Sex</th>\n",
       "      <th>Age</th>\n",
       "      <th>SibSp</th>\n",
       "      <th>Parch</th>\n",
       "      <th>Ticket</th>\n",
       "      <th>Fare</th>\n",
       "      <th>Cabin</th>\n",
       "      <th>Embarked</th>\n",
       "      <th>Cabin_num</th>\n",
       "      <th>Cabin_cat</th>\n",
       "      <th>Title</th>\n",
       "    </tr>\n",
       "  </thead>\n",
       "  <tbody>\n",
       "    <tr>\n",
       "      <th>0</th>\n",
       "      <td>1</td>\n",
       "      <td>0</td>\n",
       "      <td>3</td>\n",
       "      <td>Braund, Mr. Owen Harris</td>\n",
       "      <td>male</td>\n",
       "      <td>22.0</td>\n",
       "      <td>1</td>\n",
       "      <td>0</td>\n",
       "      <td>A/5 21171</td>\n",
       "      <td>7.2500</td>\n",
       "      <td>NaN</td>\n",
       "      <td>S</td>\n",
       "      <td>NaN</td>\n",
       "      <td>NaN</td>\n",
       "      <td>Mr.</td>\n",
       "    </tr>\n",
       "    <tr>\n",
       "      <th>1</th>\n",
       "      <td>2</td>\n",
       "      <td>1</td>\n",
       "      <td>1</td>\n",
       "      <td>Cumings, Mrs. John Bradley (Florence Briggs Th...</td>\n",
       "      <td>female</td>\n",
       "      <td>38.0</td>\n",
       "      <td>1</td>\n",
       "      <td>0</td>\n",
       "      <td>PC 17599</td>\n",
       "      <td>71.2833</td>\n",
       "      <td>C85</td>\n",
       "      <td>C</td>\n",
       "      <td>85.0</td>\n",
       "      <td>C</td>\n",
       "      <td>Mrs.</td>\n",
       "    </tr>\n",
       "    <tr>\n",
       "      <th>2</th>\n",
       "      <td>3</td>\n",
       "      <td>1</td>\n",
       "      <td>3</td>\n",
       "      <td>Heikkinen, Miss. Laina</td>\n",
       "      <td>female</td>\n",
       "      <td>26.0</td>\n",
       "      <td>0</td>\n",
       "      <td>0</td>\n",
       "      <td>STON/O2. 3101282</td>\n",
       "      <td>7.9250</td>\n",
       "      <td>NaN</td>\n",
       "      <td>S</td>\n",
       "      <td>NaN</td>\n",
       "      <td>NaN</td>\n",
       "      <td>Miss.</td>\n",
       "    </tr>\n",
       "    <tr>\n",
       "      <th>3</th>\n",
       "      <td>4</td>\n",
       "      <td>1</td>\n",
       "      <td>1</td>\n",
       "      <td>Futrelle, Mrs. Jacques Heath (Lily May Peel)</td>\n",
       "      <td>female</td>\n",
       "      <td>35.0</td>\n",
       "      <td>1</td>\n",
       "      <td>0</td>\n",
       "      <td>113803</td>\n",
       "      <td>53.1000</td>\n",
       "      <td>C123</td>\n",
       "      <td>S</td>\n",
       "      <td>123.0</td>\n",
       "      <td>C</td>\n",
       "      <td>Mrs.</td>\n",
       "    </tr>\n",
       "    <tr>\n",
       "      <th>4</th>\n",
       "      <td>5</td>\n",
       "      <td>0</td>\n",
       "      <td>3</td>\n",
       "      <td>Allen, Mr. William Henry</td>\n",
       "      <td>male</td>\n",
       "      <td>35.0</td>\n",
       "      <td>0</td>\n",
       "      <td>0</td>\n",
       "      <td>373450</td>\n",
       "      <td>8.0500</td>\n",
       "      <td>NaN</td>\n",
       "      <td>S</td>\n",
       "      <td>NaN</td>\n",
       "      <td>NaN</td>\n",
       "      <td>Mr.</td>\n",
       "    </tr>\n",
       "  </tbody>\n",
       "</table>\n",
       "</div>"
      ],
      "text/plain": [
       "   PassengerId  Survived  Pclass  \\\n",
       "0            1         0       3   \n",
       "1            2         1       1   \n",
       "2            3         1       3   \n",
       "3            4         1       1   \n",
       "4            5         0       3   \n",
       "\n",
       "                                                Name     Sex   Age  SibSp  \\\n",
       "0                            Braund, Mr. Owen Harris    male  22.0      1   \n",
       "1  Cumings, Mrs. John Bradley (Florence Briggs Th...  female  38.0      1   \n",
       "2                             Heikkinen, Miss. Laina  female  26.0      0   \n",
       "3       Futrelle, Mrs. Jacques Heath (Lily May Peel)  female  35.0      1   \n",
       "4                           Allen, Mr. William Henry    male  35.0      0   \n",
       "\n",
       "   Parch            Ticket     Fare Cabin Embarked  Cabin_num Cabin_cat  Title  \n",
       "0      0         A/5 21171   7.2500   NaN        S        NaN       NaN    Mr.  \n",
       "1      0          PC 17599  71.2833   C85        C       85.0         C   Mrs.  \n",
       "2      0  STON/O2. 3101282   7.9250   NaN        S        NaN       NaN  Miss.  \n",
       "3      0            113803  53.1000  C123        S      123.0         C   Mrs.  \n",
       "4      0            373450   8.0500   NaN        S        NaN       NaN    Mr.  "
      ]
     },
     "execution_count": 52,
     "metadata": {},
     "output_type": "execute_result"
    }
   ],
   "source": [
    "# drop original mixed\n",
    "data.head()"
   ]
  },
  {
   "cell_type": "code",
   "execution_count": 53,
   "metadata": {
    "ExecuteTime": {
     "end_time": "2020-03-09T07:31:37.790503Z",
     "start_time": "2020-03-09T07:31:37.782478Z"
    },
    "id": "vuZZ_VkLvdML"
   },
   "outputs": [],
   "source": [
    "data.drop(['PassengerId','Name','Ticket','Cabin'], axis=1,inplace=True)"
   ]
  },
  {
   "cell_type": "code",
   "execution_count": 54,
   "metadata": {
    "ExecuteTime": {
     "end_time": "2020-03-09T07:31:38.924192Z",
     "start_time": "2020-03-09T07:31:38.909150Z"
    },
    "colab": {
     "base_uri": "https://localhost:8080/",
     "height": 204
    },
    "executionInfo": {
     "elapsed": 359,
     "status": "ok",
     "timestamp": 1603046309669,
     "user": {
      "displayName": "Shaannoor Mann",
      "photoUrl": "",
      "userId": "02520257695567980696"
     },
     "user_tz": 300
    },
    "id": "6N1QIWrCvdMO",
    "outputId": "b82604a2-35bf-49e7-e1df-9e1683ba2681"
   },
   "outputs": [
    {
     "data": {
      "text/html": [
       "<div>\n",
       "<style scoped>\n",
       "    .dataframe tbody tr th:only-of-type {\n",
       "        vertical-align: middle;\n",
       "    }\n",
       "\n",
       "    .dataframe tbody tr th {\n",
       "        vertical-align: top;\n",
       "    }\n",
       "\n",
       "    .dataframe thead th {\n",
       "        text-align: right;\n",
       "    }\n",
       "</style>\n",
       "<table border=\"1\" class=\"dataframe\">\n",
       "  <thead>\n",
       "    <tr style=\"text-align: right;\">\n",
       "      <th></th>\n",
       "      <th>Survived</th>\n",
       "      <th>Pclass</th>\n",
       "      <th>Sex</th>\n",
       "      <th>Age</th>\n",
       "      <th>SibSp</th>\n",
       "      <th>Parch</th>\n",
       "      <th>Fare</th>\n",
       "      <th>Embarked</th>\n",
       "      <th>Cabin_num</th>\n",
       "      <th>Cabin_cat</th>\n",
       "      <th>Title</th>\n",
       "    </tr>\n",
       "  </thead>\n",
       "  <tbody>\n",
       "    <tr>\n",
       "      <th>0</th>\n",
       "      <td>0</td>\n",
       "      <td>3</td>\n",
       "      <td>male</td>\n",
       "      <td>22.0</td>\n",
       "      <td>1</td>\n",
       "      <td>0</td>\n",
       "      <td>7.2500</td>\n",
       "      <td>S</td>\n",
       "      <td>NaN</td>\n",
       "      <td>NaN</td>\n",
       "      <td>Mr.</td>\n",
       "    </tr>\n",
       "    <tr>\n",
       "      <th>1</th>\n",
       "      <td>1</td>\n",
       "      <td>1</td>\n",
       "      <td>female</td>\n",
       "      <td>38.0</td>\n",
       "      <td>1</td>\n",
       "      <td>0</td>\n",
       "      <td>71.2833</td>\n",
       "      <td>C</td>\n",
       "      <td>85.0</td>\n",
       "      <td>C</td>\n",
       "      <td>Mrs.</td>\n",
       "    </tr>\n",
       "    <tr>\n",
       "      <th>2</th>\n",
       "      <td>1</td>\n",
       "      <td>3</td>\n",
       "      <td>female</td>\n",
       "      <td>26.0</td>\n",
       "      <td>0</td>\n",
       "      <td>0</td>\n",
       "      <td>7.9250</td>\n",
       "      <td>S</td>\n",
       "      <td>NaN</td>\n",
       "      <td>NaN</td>\n",
       "      <td>Miss.</td>\n",
       "    </tr>\n",
       "    <tr>\n",
       "      <th>3</th>\n",
       "      <td>1</td>\n",
       "      <td>1</td>\n",
       "      <td>female</td>\n",
       "      <td>35.0</td>\n",
       "      <td>1</td>\n",
       "      <td>0</td>\n",
       "      <td>53.1000</td>\n",
       "      <td>S</td>\n",
       "      <td>123.0</td>\n",
       "      <td>C</td>\n",
       "      <td>Mrs.</td>\n",
       "    </tr>\n",
       "    <tr>\n",
       "      <th>4</th>\n",
       "      <td>0</td>\n",
       "      <td>3</td>\n",
       "      <td>male</td>\n",
       "      <td>35.0</td>\n",
       "      <td>0</td>\n",
       "      <td>0</td>\n",
       "      <td>8.0500</td>\n",
       "      <td>S</td>\n",
       "      <td>NaN</td>\n",
       "      <td>NaN</td>\n",
       "      <td>Mr.</td>\n",
       "    </tr>\n",
       "  </tbody>\n",
       "</table>\n",
       "</div>"
      ],
      "text/plain": [
       "   Survived  Pclass     Sex   Age  SibSp  Parch     Fare Embarked  Cabin_num  \\\n",
       "0         0       3    male  22.0      1      0   7.2500        S        NaN   \n",
       "1         1       1  female  38.0      1      0  71.2833        C       85.0   \n",
       "2         1       3  female  26.0      0      0   7.9250        S        NaN   \n",
       "3         1       1  female  35.0      1      0  53.1000        S      123.0   \n",
       "4         0       3    male  35.0      0      0   8.0500        S        NaN   \n",
       "\n",
       "  Cabin_cat  Title  \n",
       "0       NaN    Mr.  \n",
       "1         C   Mrs.  \n",
       "2       NaN  Miss.  \n",
       "3         C   Mrs.  \n",
       "4       NaN    Mr.  "
      ]
     },
     "execution_count": 54,
     "metadata": {},
     "output_type": "execute_result"
    }
   ],
   "source": [
    "data.head()"
   ]
  },
  {
   "cell_type": "code",
   "execution_count": 55,
   "metadata": {
    "ExecuteTime": {
     "end_time": "2020-03-09T07:31:41.011048Z",
     "start_time": "2020-03-09T07:31:40.972941Z"
    },
    "colab": {
     "base_uri": "https://localhost:8080/",
     "height": 297
    },
    "executionInfo": {
     "elapsed": 246,
     "status": "ok",
     "timestamp": 1603046309853,
     "user": {
      "displayName": "Shaannoor Mann",
      "photoUrl": "",
      "userId": "02520257695567980696"
     },
     "user_tz": 300
    },
    "id": "YnXaNFesvdMQ",
    "outputId": "274b6394-8bd9-4992-ad5f-92f72aabfaa1"
   },
   "outputs": [
    {
     "data": {
      "text/html": [
       "<div>\n",
       "<style scoped>\n",
       "    .dataframe tbody tr th:only-of-type {\n",
       "        vertical-align: middle;\n",
       "    }\n",
       "\n",
       "    .dataframe tbody tr th {\n",
       "        vertical-align: top;\n",
       "    }\n",
       "\n",
       "    .dataframe thead th {\n",
       "        text-align: right;\n",
       "    }\n",
       "</style>\n",
       "<table border=\"1\" class=\"dataframe\">\n",
       "  <thead>\n",
       "    <tr style=\"text-align: right;\">\n",
       "      <th></th>\n",
       "      <th>Survived</th>\n",
       "      <th>Pclass</th>\n",
       "      <th>Age</th>\n",
       "      <th>SibSp</th>\n",
       "      <th>Parch</th>\n",
       "      <th>Fare</th>\n",
       "      <th>Cabin_num</th>\n",
       "    </tr>\n",
       "  </thead>\n",
       "  <tbody>\n",
       "    <tr>\n",
       "      <th>count</th>\n",
       "      <td>891.000000</td>\n",
       "      <td>891.000000</td>\n",
       "      <td>714.000000</td>\n",
       "      <td>891.000000</td>\n",
       "      <td>891.000000</td>\n",
       "      <td>891.000000</td>\n",
       "      <td>200.00000</td>\n",
       "    </tr>\n",
       "    <tr>\n",
       "      <th>mean</th>\n",
       "      <td>0.383838</td>\n",
       "      <td>2.308642</td>\n",
       "      <td>29.699118</td>\n",
       "      <td>0.523008</td>\n",
       "      <td>0.381594</td>\n",
       "      <td>32.204208</td>\n",
       "      <td>50.49000</td>\n",
       "    </tr>\n",
       "    <tr>\n",
       "      <th>std</th>\n",
       "      <td>0.486592</td>\n",
       "      <td>0.836071</td>\n",
       "      <td>14.526497</td>\n",
       "      <td>1.102743</td>\n",
       "      <td>0.806057</td>\n",
       "      <td>49.693429</td>\n",
       "      <td>35.39497</td>\n",
       "    </tr>\n",
       "    <tr>\n",
       "      <th>min</th>\n",
       "      <td>0.000000</td>\n",
       "      <td>1.000000</td>\n",
       "      <td>0.420000</td>\n",
       "      <td>0.000000</td>\n",
       "      <td>0.000000</td>\n",
       "      <td>0.000000</td>\n",
       "      <td>2.00000</td>\n",
       "    </tr>\n",
       "    <tr>\n",
       "      <th>25%</th>\n",
       "      <td>0.000000</td>\n",
       "      <td>2.000000</td>\n",
       "      <td>20.125000</td>\n",
       "      <td>0.000000</td>\n",
       "      <td>0.000000</td>\n",
       "      <td>7.910400</td>\n",
       "      <td>22.00000</td>\n",
       "    </tr>\n",
       "    <tr>\n",
       "      <th>50%</th>\n",
       "      <td>0.000000</td>\n",
       "      <td>3.000000</td>\n",
       "      <td>28.000000</td>\n",
       "      <td>0.000000</td>\n",
       "      <td>0.000000</td>\n",
       "      <td>14.454200</td>\n",
       "      <td>43.00000</td>\n",
       "    </tr>\n",
       "    <tr>\n",
       "      <th>75%</th>\n",
       "      <td>1.000000</td>\n",
       "      <td>3.000000</td>\n",
       "      <td>38.000000</td>\n",
       "      <td>1.000000</td>\n",
       "      <td>0.000000</td>\n",
       "      <td>31.000000</td>\n",
       "      <td>77.25000</td>\n",
       "    </tr>\n",
       "    <tr>\n",
       "      <th>max</th>\n",
       "      <td>1.000000</td>\n",
       "      <td>3.000000</td>\n",
       "      <td>80.000000</td>\n",
       "      <td>8.000000</td>\n",
       "      <td>6.000000</td>\n",
       "      <td>512.329200</td>\n",
       "      <td>148.00000</td>\n",
       "    </tr>\n",
       "  </tbody>\n",
       "</table>\n",
       "</div>"
      ],
      "text/plain": [
       "         Survived      Pclass         Age       SibSp       Parch        Fare  \\\n",
       "count  891.000000  891.000000  714.000000  891.000000  891.000000  891.000000   \n",
       "mean     0.383838    2.308642   29.699118    0.523008    0.381594   32.204208   \n",
       "std      0.486592    0.836071   14.526497    1.102743    0.806057   49.693429   \n",
       "min      0.000000    1.000000    0.420000    0.000000    0.000000    0.000000   \n",
       "25%      0.000000    2.000000   20.125000    0.000000    0.000000    7.910400   \n",
       "50%      0.000000    3.000000   28.000000    0.000000    0.000000   14.454200   \n",
       "75%      1.000000    3.000000   38.000000    1.000000    0.000000   31.000000   \n",
       "max      1.000000    3.000000   80.000000    8.000000    6.000000  512.329200   \n",
       "\n",
       "       Cabin_num  \n",
       "count  200.00000  \n",
       "mean    50.49000  \n",
       "std     35.39497  \n",
       "min      2.00000  \n",
       "25%     22.00000  \n",
       "50%     43.00000  \n",
       "75%     77.25000  \n",
       "max    148.00000  "
      ]
     },
     "execution_count": 55,
     "metadata": {},
     "output_type": "execute_result"
    }
   ],
   "source": [
    "data.describe()"
   ]
  },
  {
   "cell_type": "code",
   "execution_count": 56,
   "metadata": {
    "ExecuteTime": {
     "end_time": "2020-03-09T07:31:43.601228Z",
     "start_time": "2020-03-09T07:31:43.589194Z"
    },
    "colab": {
     "base_uri": "https://localhost:8080/",
     "height": 34
    },
    "executionInfo": {
     "elapsed": 337,
     "status": "ok",
     "timestamp": 1603046310265,
     "user": {
      "displayName": "Shaannoor Mann",
      "photoUrl": "",
      "userId": "02520257695567980696"
     },
     "user_tz": 300
    },
    "id": "A-BhSZXivdMS",
    "outputId": "39a58c04-893c-41ec-f5cc-72915a1bab9b"
   },
   "outputs": [
    {
     "data": {
      "text/plain": [
       "((801, 10), (90, 10))"
      ]
     },
     "execution_count": 56,
     "metadata": {},
     "output_type": "execute_result"
    }
   ],
   "source": [
    "# separate into training and testing set\n",
    "from sklearn.model_selection import train_test_split\n",
    "X_train, X_test, y_train, y_test = train_test_split(\n",
    "    data.drop('Survived', axis=1),  # predictors\n",
    "    data['Survived'],  # target\n",
    "    test_size=0.1,  # percentage of obs in test set\n",
    "    random_state=0)  # seed to ensure reproducibility\n",
    "\n",
    "X_train.shape, X_test.shape"
   ]
  },
  {
   "cell_type": "code",
   "execution_count": 57,
   "metadata": {
    "ExecuteTime": {
     "end_time": "2020-03-09T07:31:45.210365Z",
     "start_time": "2020-03-09T07:31:45.194323Z"
    },
    "colab": {
     "base_uri": "https://localhost:8080/",
     "height": 204
    },
    "executionInfo": {
     "elapsed": 189,
     "status": "ok",
     "timestamp": 1603046310413,
     "user": {
      "displayName": "Shaannoor Mann",
      "photoUrl": "",
      "userId": "02520257695567980696"
     },
     "user_tz": 300
    },
    "id": "1vbc0uALvdMV",
    "outputId": "7d8811d1-4e4e-434e-b9df-d18a2c340f76"
   },
   "outputs": [
    {
     "data": {
      "text/html": [
       "<div>\n",
       "<style scoped>\n",
       "    .dataframe tbody tr th:only-of-type {\n",
       "        vertical-align: middle;\n",
       "    }\n",
       "\n",
       "    .dataframe tbody tr th {\n",
       "        vertical-align: top;\n",
       "    }\n",
       "\n",
       "    .dataframe thead th {\n",
       "        text-align: right;\n",
       "    }\n",
       "</style>\n",
       "<table border=\"1\" class=\"dataframe\">\n",
       "  <thead>\n",
       "    <tr style=\"text-align: right;\">\n",
       "      <th></th>\n",
       "      <th>Pclass</th>\n",
       "      <th>Sex</th>\n",
       "      <th>Age</th>\n",
       "      <th>SibSp</th>\n",
       "      <th>Parch</th>\n",
       "      <th>Fare</th>\n",
       "      <th>Embarked</th>\n",
       "      <th>Cabin_num</th>\n",
       "      <th>Cabin_cat</th>\n",
       "      <th>Title</th>\n",
       "    </tr>\n",
       "  </thead>\n",
       "  <tbody>\n",
       "    <tr>\n",
       "      <th>815</th>\n",
       "      <td>1</td>\n",
       "      <td>male</td>\n",
       "      <td>NaN</td>\n",
       "      <td>0</td>\n",
       "      <td>0</td>\n",
       "      <td>0.0000</td>\n",
       "      <td>S</td>\n",
       "      <td>102.0</td>\n",
       "      <td>B</td>\n",
       "      <td>Mr.</td>\n",
       "    </tr>\n",
       "    <tr>\n",
       "      <th>877</th>\n",
       "      <td>3</td>\n",
       "      <td>male</td>\n",
       "      <td>19.0</td>\n",
       "      <td>0</td>\n",
       "      <td>0</td>\n",
       "      <td>7.8958</td>\n",
       "      <td>S</td>\n",
       "      <td>NaN</td>\n",
       "      <td>NaN</td>\n",
       "      <td>Mr.</td>\n",
       "    </tr>\n",
       "    <tr>\n",
       "      <th>193</th>\n",
       "      <td>2</td>\n",
       "      <td>male</td>\n",
       "      <td>3.0</td>\n",
       "      <td>1</td>\n",
       "      <td>1</td>\n",
       "      <td>26.0000</td>\n",
       "      <td>S</td>\n",
       "      <td>2.0</td>\n",
       "      <td>F</td>\n",
       "      <td>Master.</td>\n",
       "    </tr>\n",
       "    <tr>\n",
       "      <th>523</th>\n",
       "      <td>1</td>\n",
       "      <td>female</td>\n",
       "      <td>44.0</td>\n",
       "      <td>0</td>\n",
       "      <td>1</td>\n",
       "      <td>57.9792</td>\n",
       "      <td>C</td>\n",
       "      <td>18.0</td>\n",
       "      <td>B</td>\n",
       "      <td>Mrs.</td>\n",
       "    </tr>\n",
       "    <tr>\n",
       "      <th>634</th>\n",
       "      <td>3</td>\n",
       "      <td>female</td>\n",
       "      <td>9.0</td>\n",
       "      <td>3</td>\n",
       "      <td>2</td>\n",
       "      <td>27.9000</td>\n",
       "      <td>S</td>\n",
       "      <td>NaN</td>\n",
       "      <td>NaN</td>\n",
       "      <td>Miss.</td>\n",
       "    </tr>\n",
       "  </tbody>\n",
       "</table>\n",
       "</div>"
      ],
      "text/plain": [
       "     Pclass     Sex   Age  SibSp  Parch     Fare Embarked  Cabin_num  \\\n",
       "815       1    male   NaN      0      0   0.0000        S      102.0   \n",
       "877       3    male  19.0      0      0   7.8958        S        NaN   \n",
       "193       2    male   3.0      1      1  26.0000        S        2.0   \n",
       "523       1  female  44.0      0      1  57.9792        C       18.0   \n",
       "634       3  female   9.0      3      2  27.9000        S        NaN   \n",
       "\n",
       "    Cabin_cat    Title  \n",
       "815         B      Mr.  \n",
       "877       NaN      Mr.  \n",
       "193         F  Master.  \n",
       "523         B     Mrs.  \n",
       "634       NaN    Miss.  "
      ]
     },
     "execution_count": 57,
     "metadata": {},
     "output_type": "execute_result"
    }
   ],
   "source": [
    "X_train.head()"
   ]
  },
  {
   "cell_type": "code",
   "execution_count": 58,
   "metadata": {
    "ExecuteTime": {
     "end_time": "2020-03-09T07:31:46.822094Z",
     "start_time": "2020-03-09T07:31:46.814072Z"
    },
    "colab": {
     "base_uri": "https://localhost:8080/",
     "height": 306
    },
    "executionInfo": {
     "elapsed": 252,
     "status": "ok",
     "timestamp": 1603046312652,
     "user": {
      "displayName": "Shaannoor Mann",
      "photoUrl": "",
      "userId": "02520257695567980696"
     },
     "user_tz": 300
    },
    "id": "zKuG94UcvdMX",
    "outputId": "e5c9c260-b39e-4a5a-ed4b-bd0d5485f2c9"
   },
   "outputs": [
    {
     "name": "stdout",
     "output_type": "stream",
     "text": [
      "<class 'pandas.core.frame.DataFrame'>\n",
      "Int64Index: 801 entries, 815 to 684\n",
      "Data columns (total 10 columns):\n",
      " #   Column     Non-Null Count  Dtype  \n",
      "---  ------     --------------  -----  \n",
      " 0   Pclass     801 non-null    int64  \n",
      " 1   Sex        801 non-null    object \n",
      " 2   Age        643 non-null    float64\n",
      " 3   SibSp      801 non-null    int64  \n",
      " 4   Parch      801 non-null    int64  \n",
      " 5   Fare       801 non-null    float64\n",
      " 6   Embarked   799 non-null    object \n",
      " 7   Cabin_num  175 non-null    float64\n",
      " 8   Cabin_cat  179 non-null    object \n",
      " 9   Title      801 non-null    object \n",
      "dtypes: float64(3), int64(3), object(4)\n",
      "memory usage: 68.8+ KB\n"
     ]
    }
   ],
   "source": [
    "X_train.info()"
   ]
  },
  {
   "cell_type": "code",
   "execution_count": 59,
   "metadata": {
    "ExecuteTime": {
     "end_time": "2020-03-09T07:31:49.061072Z",
     "start_time": "2020-03-09T07:31:49.056562Z"
    },
    "id": "zkyqcSHGvdMZ"
   },
   "outputs": [],
   "source": [
    "# from feature-engine\n",
    "from feature_engine import missing_data_imputers as mdi\n",
    "# for one hot encoding with feature-engine\n",
    "from feature_engine.categorical_encoders import OneHotCategoricalEncoder\n",
    "from feature_engine.categorical_encoders import RareLabelCategoricalEncoder\n",
    "from sklearn.linear_model import LogisticRegression\n",
    "from sklearn.pipeline import Pipeline\n",
    "from feature_engine.wrappers import SklearnTransformerWrapper\n",
    "from sklearn.preprocessing import StandardScaler\n"
   ]
  },
  {
   "cell_type": "code",
   "execution_count": 60,
   "metadata": {
    "ExecuteTime": {
     "end_time": "2020-03-09T07:31:49.933251Z",
     "start_time": "2020-03-09T07:31:49.926236Z"
    },
    "id": "LfraUGkZvdMc"
   },
   "outputs": [],
   "source": [
    "titanic_pipe = Pipeline([\n",
    "\n",
    "    # missing data imputation \n",
    "    ('imputer_num_arbit',\n",
    "     mdi.ArbitraryNumberImputer(arbitrary_number=-1,\n",
    "                                variables=['Cabin_num'])),\n",
    "    ('imputer_num_mean',\n",
    "     mdi.MeanMedianImputer(imputation_method='mean',variables=['Age'])),\n",
    "    \n",
    "    ('imputer_cat_freq',\n",
    "     mdi.CategoricalVariableImputer(imputation_method='missing',variables=['Embarked'])),\n",
    "    \n",
    "    ('imputer_cat_missing',\n",
    "     mdi.CategoricalVariableImputer(variables=['Cabin_cat','Title'])),\n",
    "\n",
    "    # categorical encoding \n",
    "    ('encoder_rare_label',\n",
    "     RareLabelCategoricalEncoder(tol=0.01,\n",
    "                                    n_categories=4,\n",
    "                                    variables=['Cabin_cat','Title'])),\n",
    "    ('categorical_encoder',\n",
    "     OneHotCategoricalEncoder( top_categories=None,\n",
    "                               variables=['Sex', 'Embarked','Cabin_cat','Title'], # we can select which variables to encode\n",
    "                               drop_last=True)),\n",
    "    ('scaler', SklearnTransformerWrapper(transformer=StandardScaler(), variables = ['Fare','Age','Cabin_num'])),\n",
    "\n",
    "])"
   ]
  },
  {
   "cell_type": "code",
   "execution_count": 61,
   "metadata": {
    "ExecuteTime": {
     "end_time": "2020-03-09T07:31:52.228656Z",
     "start_time": "2020-03-09T07:31:52.177198Z"
    },
    "colab": {
     "base_uri": "https://localhost:8080/",
     "height": 442
    },
    "executionInfo": {
     "elapsed": 260,
     "status": "ok",
     "timestamp": 1603046316409,
     "user": {
      "displayName": "Shaannoor Mann",
      "photoUrl": "",
      "userId": "02520257695567980696"
     },
     "user_tz": 300
    },
    "id": "H6GxXGEzvdMe",
    "outputId": "08f35a39-e9f9-4779-d4a1-cd8e284a24d0"
   },
   "outputs": [
    {
     "data": {
      "text/plain": [
       "Pipeline(steps=[('imputer_num_arbit',\n",
       "                 ArbitraryNumberImputer(arbitrary_number=-1,\n",
       "                                        variables=['Cabin_num'])),\n",
       "                ('imputer_num_mean',\n",
       "                 MeanMedianImputer(imputation_method='mean',\n",
       "                                   variables=['Age'])),\n",
       "                ('imputer_cat_freq',\n",
       "                 CategoricalVariableImputer(variables=['Embarked'])),\n",
       "                ('imputer_cat_missing',\n",
       "                 CategoricalVariableImputer(variables=['Cabin_cat', 'Title'])),\n",
       "                ('encoder_rare_label',\n",
       "                 RareLabelCategoricalEncoder(n_categories=4, tol=0.01,\n",
       "                                             variables=['Cabin_cat', 'Title'])),\n",
       "                ('categorical_encoder',\n",
       "                 OneHotCategoricalEncoder(drop_last=True,\n",
       "                                          variables=['Sex', 'Embarked',\n",
       "                                                     'Cabin_cat', 'Title'])),\n",
       "                ('scaler',\n",
       "                 SklearnTransformerWrapper(transformer=StandardScaler(),\n",
       "                                           variables=['Fare', 'Age',\n",
       "                                                      'Cabin_num']))])"
      ]
     },
     "execution_count": 61,
     "metadata": {},
     "output_type": "execute_result"
    }
   ],
   "source": [
    "titanic_pipe.fit(X_train, y_train)"
   ]
  },
  {
   "cell_type": "code",
   "execution_count": 62,
   "metadata": {
    "ExecuteTime": {
     "end_time": "2020-03-09T07:31:54.293463Z",
     "start_time": "2020-03-09T07:31:54.238241Z"
    },
    "id": "SW14fdFavdMg"
   },
   "outputs": [],
   "source": [
    "# Apply Transformations\n",
    "X_train=titanic_pipe.transform(X_train)\n",
    "X_test=titanic_pipe.transform(X_test)"
   ]
  },
  {
   "cell_type": "markdown",
   "metadata": {
    "id": "8dNHJ_JvvdMk"
   },
   "source": [
    "## LogisticRegression"
   ]
  },
  {
   "cell_type": "code",
   "execution_count": 64,
   "metadata": {
    "colab": {
     "base_uri": "https://localhost:8080/",
     "height": 102
    },
    "executionInfo": {
     "elapsed": 2765,
     "status": "ok",
     "timestamp": 1603050213451,
     "user": {
      "displayName": "Shaannoor Mann",
      "photoUrl": "",
      "userId": "02520257695567980696"
     },
     "user_tz": 300
    },
    "id": "Y6De_puzvdMm",
    "outputId": "62fe5e09-d570-4e3f-dc0f-934a0f4364c8"
   },
   "outputs": [
    {
     "name": "stdout",
     "output_type": "stream",
     "text": [
      "Best Mean Cross-validation score: 0.84\n",
      "\n",
      "Logistic Regression parameters:  {'C': 1, 'l1_ratio': 0.9, 'penalty': 'elasticnet', 'solver': 'saga'}\n",
      "Logistic Train Performance:  0.8377028714107366\n",
      "Logistic Test Performance:  0.8444444444444444\n"
     ]
    }
   ],
   "source": [
    "# Train a logistic regression model\n",
    "\n",
    "from sklearn.preprocessing import MinMaxScaler\n",
    "from sklearn.linear_model import LogisticRegression\n",
    "from sklearn.model_selection import GridSearchCV\n",
    "\n",
    "scaler = MinMaxScaler()\n",
    "\n",
    "X_train = scaler.fit_transform(X_train)\n",
    "X_test = scaler.transform(X_test)\n",
    "\n",
    "clf = LogisticRegression(max_iter=10000)\n",
    "\n",
    "#define a list of parameters\n",
    "param_grid = [{'penalty': ['l1','l2'],\n",
    "              'C':[0.1, 0.001, 1, 10],\n",
    "              'solver' : ['liblinear', 'saga']},\n",
    "\n",
    "              {'penalty': ['elasticnet'],\n",
    "              'C':[0.1, 0.001, 1, 10],\n",
    "              'l1_ratio': [0.1,0.5, 0.9],\n",
    "              'solver' : ['saga']}]\n",
    "\n",
    "grid_log = GridSearchCV(clf, param_grid, cv=6, verbose=0)\n",
    "\n",
    "grid_log.fit(X_train, y_train)\n",
    "\n",
    "\n",
    "print(\"Best Mean Cross-validation score: {:.2f}\".format(grid_log.best_score_))\n",
    "print()\n",
    "\n",
    "#find best parameters\n",
    "print('Logistic Regression parameters: ', grid_log.best_params_)\n",
    "\n",
    "# Check test data set performance\n",
    "print(\"Logistic Train Performance: \", grid_log.score(X_train,y_train))\n",
    "print(\"Logistic Test Performance: \", grid_log.score(X_test,y_test))\n",
    "\n"
   ]
  },
  {
   "cell_type": "markdown",
   "metadata": {
    "id": "66poKd00vdMo"
   },
   "source": [
    "## KNN"
   ]
  },
  {
   "cell_type": "code",
   "execution_count": 66,
   "metadata": {
    "colab": {
     "base_uri": "https://localhost:8080/",
     "height": 102
    },
    "executionInfo": {
     "elapsed": 2914,
     "status": "ok",
     "timestamp": 1603050275675,
     "user": {
      "displayName": "Shaannoor Mann",
      "photoUrl": "",
      "userId": "02520257695567980696"
     },
     "user_tz": 300
    },
    "id": "WgN5KM8zvdMp",
    "outputId": "472f7829-51a9-4c54-ca61-787185152068"
   },
   "outputs": [
    {
     "name": "stdout",
     "output_type": "stream",
     "text": [
      "Best Mean Cross-validation score: 0.82\n",
      "\n",
      "KNN parameters:  {'n_neighbors': 5}\n",
      "KNN Train Performance:  0.8726591760299626\n",
      "KNN Test Performance:  0.8222222222222222\n"
     ]
    }
   ],
   "source": [
    "# Train a KNN model, report the coefficients, the best parameters, and model performance \n",
    "# hint: find the optimal k\n",
    "\n",
    "\n",
    "\n",
    "from sklearn.model_selection import GridSearchCV\n",
    "from sklearn.neighbors import KNeighborsClassifier\n",
    "\n",
    "knn = KNeighborsClassifier()\n",
    "\n",
    "# define a list of parameters\n",
    "param_knn = {'n_neighbors': range(2,10)}\n",
    "\n",
    "#apply grid search\n",
    "grid_knn = GridSearchCV(knn, param_knn, cv=9, return_train_score=True)\n",
    "grid_knn.fit(X_train, y_train)\n",
    "\n",
    "# Mean Cross Validation Score\n",
    "print(\"Best Mean Cross-validation score: {:.2f}\".format(grid_knn.best_score_))\n",
    "print()\n",
    "\n",
    "#find best parameters\n",
    "print('KNN parameters: ', grid_knn.best_params_)\n",
    "\n",
    "# Check test data set performance\n",
    "print(\"KNN Train Performance: \", grid_knn.score(X_train,y_train))\n",
    "print(\"KNN Test Performance: \", grid_knn.score(X_test,y_test))"
   ]
  },
  {
   "cell_type": "markdown",
   "metadata": {
    "id": "6m0brZNPvdMr"
   },
   "source": [
    "## Decision tree with Max_leaf_nodes"
   ]
  },
  {
   "cell_type": "code",
   "execution_count": 67,
   "metadata": {
    "colab": {
     "base_uri": "https://localhost:8080/",
     "height": 102
    },
    "executionInfo": {
     "elapsed": 2661,
     "status": "ok",
     "timestamp": 1603050788743,
     "user": {
      "displayName": "Shaannoor Mann",
      "photoUrl": "",
      "userId": "02520257695567980696"
     },
     "user_tz": 300
    },
    "id": "YAiSARVevdMs",
    "outputId": "cc01c74f-d86a-4908-94bb-ca8aa3ad35ae"
   },
   "outputs": [
    {
     "name": "stdout",
     "output_type": "stream",
     "text": [
      "Best Mean Cross-validation score: 0.84\n",
      "\n",
      "Decision Tree parameters:  {'criterion': 'entropy', 'max_leaf_nodes': 19, 'splitter': 'best'}\n",
      "Decision Tree Performance Train:  0.8651685393258427\n",
      "Decision Tree Performance Test:  0.8111111111111111\n"
     ]
    }
   ],
   "source": [
    "# Train a Decision Tree model, report the coefficients, the best parameters, and model performance (10 points)\n",
    "# hint: find the optimal max_depth\n",
    "\n",
    "# YOUR CODE HERE\n",
    "from sklearn.tree import DecisionTreeClassifier\n",
    "dtree = DecisionTreeClassifier(random_state=0)\n",
    "\n",
    "#define a list of parameters\n",
    "param_dtree = {'max_leaf_nodes': range(3,36),\n",
    "               'criterion': ['gini', 'entropy'],\n",
    "               'splitter': ['best','random']}\n",
    "\n",
    "#apply grid search\n",
    "grid_dtree = GridSearchCV(dtree, param_dtree, cv=6, return_train_score = True)\n",
    "grid_dtree.fit(X_train, y_train)\n",
    "\n",
    "# Mean Cross Validation Score\n",
    "print(\"Best Mean Cross-validation score: {:.2f}\".format(grid_dtree.best_score_))\n",
    "print()\n",
    "\n",
    "#find best parameters\n",
    "print('Decision Tree parameters: ', grid_dtree.best_params_)\n",
    "\n",
    "# Check test data set performance\n",
    "print(\"Decision Tree Performance Train: \", grid_dtree.score(X_train,y_train))\n",
    "print(\"Decision Tree Performance Test: \", grid_dtree.score(X_test,y_test))\n"
   ]
  },
  {
   "cell_type": "markdown",
   "metadata": {
    "id": "R53e3LAoTiQc"
   },
   "source": [
    "Decision tree with Max Depth"
   ]
  },
  {
   "cell_type": "code",
   "execution_count": 68,
   "metadata": {
    "colab": {
     "base_uri": "https://localhost:8080/",
     "height": 102
    },
    "executionInfo": {
     "elapsed": 783,
     "status": "ok",
     "timestamp": 1603051657338,
     "user": {
      "displayName": "Shaannoor Mann",
      "photoUrl": "",
      "userId": "02520257695567980696"
     },
     "user_tz": 300
    },
    "id": "sJ2tTklwTz3N",
    "outputId": "c3dc9a91-9797-480a-ac4e-d74c81bf4579"
   },
   "outputs": [
    {
     "name": "stdout",
     "output_type": "stream",
     "text": [
      "Best Mean Cross-validation score: 0.84\n",
      "\n",
      "Decision Tree parameters:  {'criterion': 'entropy', 'max_depth': 4, 'splitter': 'best'}\n",
      "Decision Tree Performance Train:  0.8564294631710362\n",
      "Decision Tree Performance Test:  0.8222222222222222\n"
     ]
    }
   ],
   "source": [
    "# Train a Decision Tree model, report the coefficients, the best parameters, and model performance (10 points)\n",
    "# hint: find the optimal max_depth\n",
    "\n",
    "# YOUR CODE HERE\n",
    "from sklearn.tree import DecisionTreeClassifier\n",
    "dtree = DecisionTreeClassifier(random_state=0)\n",
    "\n",
    "#define a list of parameters\n",
    "param_dtree = {'max_depth': [1,2,3,4,5,6],\n",
    "               'criterion': ['gini', 'entropy'],\n",
    "               'splitter': ['best','random']},\n",
    "\n",
    "#apply grid search\n",
    "grid_dtree = GridSearchCV(dtree, param_dtree, cv=6, return_train_score = True)\n",
    "grid_dtree.fit(X_train, y_train)\n",
    "\n",
    "# Mean Cross Validation Score\n",
    "print(\"Best Mean Cross-validation score: {:.2f}\".format(grid_dtree.best_score_))\n",
    "print()\n",
    "\n",
    "#find best parameters\n",
    "print('Decision Tree parameters: ', grid_dtree.best_params_)\n",
    "\n",
    "# Check test data set performance\n",
    "print(\"Decision Tree Performance Train: \", grid_dtree.score(X_train,y_train))\n",
    "print(\"Decision Tree Performance Test: \", grid_dtree.score(X_test,y_test))"
   ]
  },
  {
   "cell_type": "markdown",
   "metadata": {
    "id": "ZcVH4aOHvdMu"
   },
   "source": [
    "## SVM Classification - Linear"
   ]
  },
  {
   "cell_type": "code",
   "execution_count": 69,
   "metadata": {
    "colab": {
     "base_uri": "https://localhost:8080/",
     "height": 102
    },
    "executionInfo": {
     "elapsed": 925,
     "status": "ok",
     "timestamp": 1603051029064,
     "user": {
      "displayName": "Shaannoor Mann",
      "photoUrl": "",
      "userId": "02520257695567980696"
     },
     "user_tz": 300
    },
    "id": "xph2lbf4vdMu",
    "outputId": "f43fd180-0248-4bb0-a604-6e166671bd88"
   },
   "outputs": [
    {
     "name": "stdout",
     "output_type": "stream",
     "text": [
      "Best Mean Cross-validation score: 0.83\n",
      "\n",
      "SVC parameters:  {'C': 0.3, 'penalty': 'l1'}\n",
      "SVC Performance train:  0.8377028714107366\n",
      "SVC Performance test:  0.8444444444444444\n"
     ]
    }
   ],
   "source": [
    "from sklearn.svm import LinearSVC\n",
    "from sklearn.model_selection import GridSearchCV\n",
    "\n",
    "svc_linear = LinearSVC(dual = False, max_iter=10000)\n",
    "\n",
    "#define a list of parameters\n",
    "param_svc_linear = {'penalty': ['l1','l2'],\n",
    "                    'C': [0.08,0.09,0.1, 0.2,0.3,0.4,0.5],\n",
    "                   }\n",
    "\n",
    "#apply grid search\n",
    "grid_param_svc_linear = GridSearchCV(svc_linear, param_svc_linear, cv=4, return_train_score = True)\n",
    "grid_param_svc_linear.fit(X_train, y_train)\n",
    "\n",
    "# Mean Cross Validation Score\n",
    "print(\"Best Mean Cross-validation score: {:.2f}\".format(grid_param_svc_linear.best_score_))\n",
    "print()\n",
    "\n",
    "#find best parameters\n",
    "print('SVC parameters: ', grid_param_svc_linear.best_params_)\n",
    "\n",
    "\n",
    "\n",
    "# Check test data set performance\n",
    "print(\"SVC Performance train: \", grid_param_svc_linear.score(X_train,y_train))\n",
    "print(\"SVC Performance test: \", grid_param_svc_linear.score(X_test,y_test))"
   ]
  },
  {
   "cell_type": "markdown",
   "metadata": {
    "id": "Jr20wR4LvdMw"
   },
   "source": [
    "## SVM Classification Kernel:rbf"
   ]
  },
  {
   "cell_type": "code",
   "execution_count": 70,
   "metadata": {
    "colab": {
     "base_uri": "https://localhost:8080/",
     "height": 85
    },
    "executionInfo": {
     "elapsed": 3827,
     "status": "ok",
     "timestamp": 1603051168271,
     "user": {
      "displayName": "Shaannoor Mann",
      "photoUrl": "",
      "userId": "02520257695567980696"
     },
     "user_tz": 300
    },
    "id": "RfGRcqNovdMx",
    "outputId": "ffa73160-5fd5-4225-d470-5d77499b0dcd"
   },
   "outputs": [
    {
     "name": "stdout",
     "output_type": "stream",
     "text": [
      "Best Mean Cross-validation score: 0.83\n",
      "SVC parameters:  {'C': 25000, 'gamma': 0.001}\n",
      "train score:  0.8401997503121099\n",
      "test score:  0.8401997503121099\n"
     ]
    }
   ],
   "source": [
    "from sklearn.svm import SVC\n",
    "from sklearn.model_selection import GridSearchCV\n",
    "\n",
    "svc_kernel = SVC(kernel = 'rbf')\n",
    "\n",
    "#define a list of parameters\n",
    "param_svc_kernel = {'C': [15000,25000,30000],'gamma':[0.0008,0.001,0.003,0.005]}\n",
    "\n",
    "#apply grid search\n",
    "grid_svc_kernel = GridSearchCV(svc_kernel, param_svc_kernel, cv=5, n_jobs=2)\n",
    "grid_svc_kernel.fit(X_train, y_train)\n",
    "\n",
    "# Mean Cross Validation Score\n",
    "print(\"Best Mean Cross-validation score: {:.2f}\".format(grid_svc_kernel.best_score_))\n",
    "\n",
    "\n",
    "#find best parameters\n",
    "print('SVC parameters: ', grid_svc_kernel.best_params_)\n",
    "\n",
    "print('train score: ', grid_svc_kernel.score(X_train, y_train))\n",
    "print('test score: ', grid_svc_kernel.score(X_train, y_train))"
   ]
  },
  {
   "cell_type": "markdown",
   "metadata": {
    "id": "EkltKkeyvdMz"
   },
   "source": [
    "## SVM Classification Kernel: Sigmoid"
   ]
  },
  {
   "cell_type": "code",
   "execution_count": 71,
   "metadata": {
    "colab": {
     "base_uri": "https://localhost:8080/",
     "height": 85
    },
    "executionInfo": {
     "elapsed": 2195,
     "status": "ok",
     "timestamp": 1603051249909,
     "user": {
      "displayName": "Shaannoor Mann",
      "photoUrl": "",
      "userId": "02520257695567980696"
     },
     "user_tz": 300
    },
    "id": "VRLQUZjhvdM0",
    "outputId": "f5eba704-9a6e-4099-d72d-2567e33bac52"
   },
   "outputs": [
    {
     "name": "stdout",
     "output_type": "stream",
     "text": [
      "Best Mean Cross-validation score: 0.80\n",
      "SVC parameters:  {'C': 1.6, 'gamma': 0.1}\n",
      "train score:  0.8077403245942572\n",
      "test score:  0.8077403245942572\n"
     ]
    }
   ],
   "source": [
    "from sklearn.svm import SVC\n",
    "from sklearn.model_selection import GridSearchCV\n",
    "\n",
    "svc_kernel = SVC(kernel = 'sigmoid')\n",
    "\n",
    "#define a list of parameters\n",
    "param_svc_kernel = {'C': [1.2,1.4,1.6,1.8],'gamma':[0.08,0.1,0.3,0.5]}\n",
    "\n",
    "#apply grid search\n",
    "grid_svc_kernel = GridSearchCV(svc_kernel, param_svc_kernel, cv=5, n_jobs=2)\n",
    "grid_svc_kernel.fit(X_train, y_train)\n",
    "\n",
    "# Mean Cross Validation Score\n",
    "print(\"Best Mean Cross-validation score: {:.2f}\".format(grid_svc_kernel.best_score_))\n",
    "\n",
    "\n",
    "#find best parameters\n",
    "print('SVC parameters: ', grid_svc_kernel.best_params_)\n",
    "\n",
    "print('train score: ', grid_svc_kernel.score(X_train, y_train))\n",
    "print('test score: ', grid_svc_kernel.score(X_train, y_train))"
   ]
  },
  {
   "cell_type": "markdown",
   "metadata": {
    "id": "2rREdztwvdM2"
   },
   "source": [
    "## SVM Classification with Poly kernel"
   ]
  },
  {
   "cell_type": "code",
   "execution_count": 72,
   "metadata": {
    "colab": {
     "base_uri": "https://localhost:8080/",
     "height": 102
    },
    "executionInfo": {
     "elapsed": 5095,
     "status": "ok",
     "timestamp": 1603052195755,
     "user": {
      "displayName": "Shaannoor Mann",
      "photoUrl": "",
      "userId": "02520257695567980696"
     },
     "user_tz": 300
    },
    "id": "HpspUhP1vdM3",
    "outputId": "c242b3b0-9b41-451e-887c-7232ba840fd4"
   },
   "outputs": [
    {
     "name": "stdout",
     "output_type": "stream",
     "text": [
      "Best Mean Cross-validation score: 0.84\n",
      "\n",
      "SVC parameters:  {'C': 2, 'degree': 5, 'kernel': 'poly'}\n",
      "SVC Performance train:  0.8626716604244694\n",
      "SVC Performance test:  0.8333333333333334\n"
     ]
    }
   ],
   "source": [
    "from sklearn.svm import SVC\n",
    "from sklearn.model_selection import GridSearchCV\n",
    "\n",
    "svc = SVC()\n",
    "\n",
    "#define a list of parameters\n",
    "param_svc = {'kernel': ['poly'],  \n",
    "             'C': [0.1,1,2,4,6,8], \n",
    "             'degree': [2, 3,5,6,7]}\n",
    "             \n",
    "\n",
    "#apply grid search\n",
    "grid_param_svc = GridSearchCV(svc, param_svc, cv=6, return_train_score = True, scoring='accuracy')\n",
    "grid_param_svc.fit(X_train, y_train)\n",
    "\n",
    "# Mean Cross Validation Score\n",
    "print(\"Best Mean Cross-validation score: {:.2f}\".format(grid_param_svc.best_score_))\n",
    "print()\n",
    "\n",
    "#find best parameters\n",
    "print('SVC parameters: ', grid_param_svc.best_params_)\n",
    "\n",
    "\n",
    "\n",
    "# Check test data set performance\n",
    "print(\"SVC Performance train: \", grid_param_svc.score(X_train,y_train))\n",
    "print(\"SVC Performance test: \", grid_param_svc.score(X_test,y_test))"
   ]
  },
  {
   "cell_type": "markdown",
   "metadata": {
    "id": "ZmNrogosWC-D"
   },
   "source": [
    "Ensemble Model"
   ]
  },
  {
   "cell_type": "code",
   "execution_count": 143,
   "metadata": {},
   "outputs": [],
   "source": [
    "import warnings\n",
    "warnings.filterwarnings('ignore')"
   ]
  },
  {
   "cell_type": "markdown",
   "metadata": {},
   "source": [
    "1.\tTwo models with Bagging (best model from HW2 and Decision Tree)"
   ]
  },
  {
   "cell_type": "code",
   "execution_count": 73,
   "metadata": {},
   "outputs": [],
   "source": [
    "from sklearn.ensemble import BaggingClassifier"
   ]
  },
  {
   "cell_type": "code",
   "execution_count": 144,
   "metadata": {},
   "outputs": [
    {
     "data": {
      "text/plain": [
       "GridSearchCV(cv=10,\n",
       "             estimator=BaggingClassifier(base_estimator=DecisionTreeClassifier(),\n",
       "                                         oob_score=True, random_state=0),\n",
       "             param_grid={'base_estimator__max_depth': range(1, 10),\n",
       "                         'max_samples': [0.8, 1],\n",
       "                         'n_estimators': [10, 25, 100]},\n",
       "             return_train_score=True)"
      ]
     },
     "execution_count": 144,
     "metadata": {},
     "output_type": "execute_result"
    }
   ],
   "source": [
    "bag_tree = BaggingClassifier(base_estimator=DecisionTreeClassifier(), bootstrap=True, random_state=0, oob_score=True)\n",
    "\n",
    "bag_tree_param = {\n",
    "                 'base_estimator__max_depth': range(1,10),\n",
    "                 'max_samples':  [0.8,1],\n",
    "                 'n_estimators': [10,25,100]}\n",
    "bag_tree_grid = GridSearchCV(bag_tree, bag_tree_param,cv=10, return_train_score=True )\n",
    "bag_tree_grid.fit(X_train,y_train)\n"
   ]
  },
  {
   "cell_type": "code",
   "execution_count": 198,
   "metadata": {},
   "outputs": [
    {
     "name": "stdout",
     "output_type": "stream",
     "text": [
      "Best Mean Cross Validation Score is 0.8502314814814815\n",
      "Best parameters are {'base_estimator__max_depth': 8, 'max_samples': 0.8, 'n_estimators': 100}\n",
      "Train score is 0.9238451935081149\n",
      "Test score is 0.8111111111111111\n"
     ]
    }
   ],
   "source": [
    "print(f'Best Mean Cross Validation Score is {bag_tree_grid.best_score_}')\n",
    "print(f'Best parameters are {bag_tree_grid.best_params_}')\n",
    "print(f'Train score is {bag_tree_grid.score(X_train,y_train)}')\n",
    "print(f'Test score is {bag_tree_grid.score(X_test,y_test)}')\n"
   ]
  },
  {
   "cell_type": "code",
   "execution_count": 146,
   "metadata": {},
   "outputs": [
    {
     "data": {
      "text/plain": [
       "GridSearchCV(cv=10,\n",
       "             estimator=BaggingClassifier(base_estimator=LogisticRegression(),\n",
       "                                         oob_score=True, random_state=0),\n",
       "             param_grid={'base_estimator__C': [0.001, 0.01, 0.1, 1, 10, 100],\n",
       "                         'max_samples': [0.8, 1], 'n_estimators': [100, 500]},\n",
       "             return_train_score=True)"
      ]
     },
     "execution_count": 146,
     "metadata": {},
     "output_type": "execute_result"
    }
   ],
   "source": [
    "bag_logreg = BaggingClassifier(base_estimator=LogisticRegression(), bootstrap=True, random_state=0, oob_score=True)\n",
    "\n",
    "bag_logreg_param = {\n",
    "                 'base_estimator__C': [0.001,0.01,0.1,1,10,100],\n",
    "                 'max_samples':  [0.8,1],\n",
    "                 'n_estimators': [100,500]}\n",
    "bag_logreg_grid = GridSearchCV(bag_logreg, bag_logreg_param,cv=10, return_train_score=True )\n",
    "bag_logreg_grid.fit(X_train,y_train)"
   ]
  },
  {
   "cell_type": "code",
   "execution_count": 103,
   "metadata": {},
   "outputs": [
    {
     "name": "stdout",
     "output_type": "stream",
     "text": [
      "Best Mean Cross Validation Score is 0.8302623456790122\n",
      "Best parameters are {'base_estimator__C': 1, 'max_samples': 0.8, 'n_estimators': 100}\n",
      "Train score is 0.8401997503121099\n",
      "Test score is 0.8333333333333334\n"
     ]
    }
   ],
   "source": [
    "print(f'Best Mean Cross Validation Score is {bag_logreg_grid.best_score_}')\n",
    "print(f'Best parameters are {bag_logreg_grid.best_params_}')\n",
    "print(f'Train score is {bag_logreg_grid.score(X_train,y_train)}')\n",
    "print(f'Test score is {bag_logreg_grid.score(X_test,y_test)}')"
   ]
  },
  {
   "cell_type": "markdown",
   "metadata": {},
   "source": [
    "2.\tTwo models with Pasting (best model from HW2 and Decision Tree)"
   ]
  },
  {
   "cell_type": "code",
   "execution_count": 93,
   "metadata": {},
   "outputs": [
    {
     "data": {
      "text/plain": [
       "GridSearchCV(cv=10,\n",
       "             estimator=BaggingClassifier(base_estimator=DecisionTreeClassifier(),\n",
       "                                         bootstrap=False, random_state=0),\n",
       "             param_grid={'base_estimator__max_depth': range(1, 10),\n",
       "                         'max_samples': [0.8, 1],\n",
       "                         'n_estimators': [10, 20, 100]},\n",
       "             return_train_score=True)"
      ]
     },
     "execution_count": 93,
     "metadata": {},
     "output_type": "execute_result"
    }
   ],
   "source": [
    "paste_tree=BaggingClassifier(base_estimator=DecisionTreeClassifier(), bootstrap=False, random_state=0, oob_score=False)\n",
    "\n",
    "paste_tree_param={\n",
    "                   'base_estimator__max_depth':range(1,10),\n",
    "                    'max_samples':[0.8,1],\n",
    "                    'n_estimators':[10,20,100]}\n",
    "\n",
    "paste_tree_grid=GridSearchCV(paste_tree,paste_tree_param, cv=10, return_train_score=True)\n",
    "\n",
    "paste_tree_grid.fit(X_train, y_train)"
   ]
  },
  {
   "cell_type": "code",
   "execution_count": 94,
   "metadata": {},
   "outputs": [
    {
     "name": "stdout",
     "output_type": "stream",
     "text": [
      "Best Mean Cross Validation Score is 0.8564660493827161\n",
      "Best parameters are {'base_estimator__max_depth': 8, 'max_samples': 0.8, 'n_estimators': 100}\n",
      "Train score is 0.9350811485642946\n",
      "Test score is 0.8222222222222222\n"
     ]
    }
   ],
   "source": [
    "print(f'Best Mean Cross Validation Score is {paste_tree_grid.best_score_}')\n",
    "print(f'Best parameters are {paste_tree_grid.best_params_}')\n",
    "print(f'Train score is {paste_tree_grid.score(X_train,y_train)}')\n",
    "print(f'Test score is {paste_tree_grid.score(X_test,y_test)}')"
   ]
  },
  {
   "cell_type": "code",
   "execution_count": 147,
   "metadata": {},
   "outputs": [
    {
     "data": {
      "text/plain": [
       "GridSearchCV(cv=5,\n",
       "             estimator=BaggingClassifier(base_estimator=LogisticRegression(),\n",
       "                                         bootstrap=False, random_state=0),\n",
       "             param_grid={'base_estimator__C': [0.001, 0.01, 0.1, 1, 10, 100],\n",
       "                         'max_samples': [0.8, 1],\n",
       "                         'n_estimators': [10, 25, 100]},\n",
       "             return_train_score=True)"
      ]
     },
     "execution_count": 147,
     "metadata": {},
     "output_type": "execute_result"
    }
   ],
   "source": [
    "paste_logreg = BaggingClassifier(base_estimator=LogisticRegression(), bootstrap=False, random_state=0, oob_score=False)\n",
    "\n",
    "paste_logreg_param = {\n",
    "                 'base_estimator__C': [0.001,0.01,0.1,1,10,100],\n",
    "                 'max_samples':  [0.8,1],\n",
    "                 'n_estimators': [10,25,100]}\n",
    "paste_logreg_grid = GridSearchCV(paste_logreg, paste_logreg_param,cv=5, return_train_score=True, )\n",
    "paste_logreg_grid.fit(X_train,y_train)"
   ]
  },
  {
   "cell_type": "code",
   "execution_count": 126,
   "metadata": {},
   "outputs": [
    {
     "name": "stdout",
     "output_type": "stream",
     "text": [
      "Best Mean Cross Validation Score is 0.8302406832298136\n",
      "Best parameters are {'base_estimator__C': 1, 'max_samples': 0.8, 'n_estimators': 25}\n",
      "Train score is 0.8401997503121099\n",
      "Test score is 0.8444444444444444\n"
     ]
    }
   ],
   "source": [
    "print(f'Best Mean Cross Validation Score is {paste_logreg_grid.best_score_}')\n",
    "print(f'Best parameters are {paste_logreg_grid.best_params_}')\n",
    "print(f'Train score is {paste_logreg_grid.score(X_train,y_train)}')\n",
    "print(f'Test score is {paste_logreg_grid.score(X_test,y_test)}')"
   ]
  },
  {
   "cell_type": "markdown",
   "metadata": {},
   "source": [
    "3.\tRandom Forest"
   ]
  },
  {
   "cell_type": "code",
   "execution_count": 95,
   "metadata": {},
   "outputs": [],
   "source": [
    "from sklearn.ensemble import RandomForestClassifier"
   ]
  },
  {
   "cell_type": "code",
   "execution_count": 96,
   "metadata": {},
   "outputs": [
    {
     "data": {
      "text/plain": [
       "GridSearchCV(cv=5, estimator=RandomForestClassifier(random_state=42),\n",
       "             param_grid={'criterion': ['gini', 'entropy'],\n",
       "                         'max_depth': [2, 4, 5, 6, 7, 8],\n",
       "                         'max_features': ['auto', 'sqrt', 'log2'],\n",
       "                         'n_estimators': [200, 500]},\n",
       "             return_train_score=True)"
      ]
     },
     "execution_count": 96,
     "metadata": {},
     "output_type": "execute_result"
    }
   ],
   "source": [
    "rf =RandomForestClassifier(random_state=42)\n",
    "rf_param = { \n",
    "    'n_estimators': [200, 500],\n",
    "    'max_features': ['auto', 'sqrt', 'log2'],\n",
    "    'max_depth' : [2,4,5,6,7,8],\n",
    "    'criterion' :['gini', 'entropy']\n",
    "}\n",
    "\n",
    "rf_grid = GridSearchCV(rf, rf_param,cv=5, return_train_score=True)\n",
    "rf_grid.fit(X_train,y_train)"
   ]
  },
  {
   "cell_type": "code",
   "execution_count": 97,
   "metadata": {},
   "outputs": [
    {
     "name": "stdout",
     "output_type": "stream",
     "text": [
      "Best Mean Cross Validation Score is 0.8377251552795031\n",
      "Best parameters are {'criterion': 'entropy', 'max_depth': 7, 'max_features': 'auto', 'n_estimators': 200}\n",
      "Train score is 0.885143570536829\n",
      "Test score is 0.8666666666666667\n"
     ]
    }
   ],
   "source": [
    "print(f'Best Mean Cross Validation Score is {rf_grid.best_score_}')\n",
    "print(f'Best parameters are {rf_grid.best_params_}')\n",
    "print(f'Train score is {rf_grid.score(X_train,y_train)}')\n",
    "print(f'Test score is {rf_grid.score(X_test,y_test)}')"
   ]
  },
  {
   "cell_type": "markdown",
   "metadata": {},
   "source": [
    "4.\tAda Boost (with decision tree)"
   ]
  },
  {
   "cell_type": "code",
   "execution_count": 98,
   "metadata": {},
   "outputs": [],
   "source": [
    "from sklearn.ensemble import AdaBoostClassifier"
   ]
  },
  {
   "cell_type": "code",
   "execution_count": 102,
   "metadata": {},
   "outputs": [
    {
     "data": {
      "text/plain": [
       "GridSearchCV(cv=5,\n",
       "             estimator=AdaBoostClassifier(base_estimator=DecisionTreeClassifier(),\n",
       "                                          random_state=42),\n",
       "             param_grid={'base_estimator__criterion': ['gini', 'entropy'],\n",
       "                         'base_estimator__max_depth': [0.1, 2, 4, 6],\n",
       "                         'base_estimator__splitter': ['best', 'random'],\n",
       "                         'learning_rate': [0.1, 0.5, 1.0, 2],\n",
       "                         'n_estimators': [50, 100, 150]},\n",
       "             return_train_score=True)"
      ]
     },
     "execution_count": 102,
     "metadata": {},
     "output_type": "execute_result"
    }
   ],
   "source": [
    "adc_tree =AdaBoostClassifier(base_estimator=DecisionTreeClassifier(),random_state=42)\n",
    "adc_tree_param = {\n",
    "              'base_estimator__criterion' : [\"gini\", \"entropy\"],\n",
    "              'base_estimator__splitter' :   [\"best\", \"random\"],\n",
    "              'base_estimator__max_depth' : [0.1,2,4,6],\n",
    "              'n_estimators' : [50,100,150],\n",
    "              'learning_rate' : [0.1,0.5,1.0,2],\n",
    "             }\n",
    "adc_tree_grid = GridSearchCV(adc_tree, adc_tree_param,cv=5, return_train_score=True)\n",
    "adc_tree_grid.fit(X_train,y_train)"
   ]
  },
  {
   "cell_type": "code",
   "execution_count": 101,
   "metadata": {},
   "outputs": [
    {
     "name": "stdout",
     "output_type": "stream",
     "text": [
      "Best Mean Cross Validation Score is 0.816467391304348\n",
      "Best Parameters are {'base_estimator__criterion': 'gini', 'base_estimator__max_depth': 2, 'base_estimator__splitter': 'random', 'learning_rate': 0.5, 'n_estimators': 100}\n",
      "Train score is 0.9001248439450686\n",
      "Test score is 0.7777777777777778\n"
     ]
    }
   ],
   "source": [
    "print(f'Best Mean Cross Validation Score is {adc_tree_grid.best_score_}')\n",
    "print(f'Best Parameters are {adc_tree_grid.best_params_}')\n",
    "print(f'Train score is {adc_tree_grid.score(X_train,y_train)}')\n",
    "print(f'Test score is {adc_tree_grid.score(X_test,y_test)}')"
   ]
  },
  {
   "cell_type": "markdown",
   "metadata": {},
   "source": [
    "5.\tGradient Boost"
   ]
  },
  {
   "cell_type": "code",
   "execution_count": 105,
   "metadata": {},
   "outputs": [
    {
     "data": {
      "text/plain": [
       "GridSearchCV(cv=5, estimator=GradientBoostingClassifier(random_state=42),\n",
       "             param_grid={'learning_rate': [0.5, 1.0, 2], 'max_depth': [2, 3, 4],\n",
       "                         'n_estimators': [100, 150]},\n",
       "             return_train_score=True)"
      ]
     },
     "execution_count": 105,
     "metadata": {},
     "output_type": "execute_result"
    }
   ],
   "source": [
    "from  sklearn.ensemble import GradientBoostingClassifier\n",
    "gb= GradientBoostingClassifier(random_state=42)\n",
    "gb_param = {\n",
    "              'max_depth' : [2,3,4],\n",
    "              'n_estimators' : [100,150],\n",
    "              'learning_rate' : [0.5,1.0,2],\n",
    "             }\n",
    "gb_grid = GridSearchCV(gb, gb_param,cv=5, return_train_score=True, )\n",
    "gb_grid.fit(X_train,y_train)"
   ]
  },
  {
   "cell_type": "code",
   "execution_count": 106,
   "metadata": {},
   "outputs": [
    {
     "name": "stdout",
     "output_type": "stream",
     "text": [
      "Best Mean Cross Validation Score is 0.820248447204969\n",
      "Best parameters are {'learning_rate': 0.5, 'max_depth': 2, 'n_estimators': 100}\n",
      "Train score is 0.9238451935081149\n",
      "Test score is 0.8444444444444444\n"
     ]
    }
   ],
   "source": [
    "print(f'Best Mean Cross Validation Score is {gb_grid.best_score_}')\n",
    "print(f'Best parameters are {gb_grid.best_params_}')\n",
    "print(f'Train score is {gb_grid.score(X_train,y_train)}')\n",
    "print(f'Test score is {gb_grid.score(X_test,y_test)}')"
   ]
  },
  {
   "cell_type": "markdown",
   "metadata": {},
   "source": [
    "6.\tExtra-Trees"
   ]
  },
  {
   "cell_type": "code",
   "execution_count": 113,
   "metadata": {},
   "outputs": [],
   "source": [
    "from  sklearn.ensemble import ExtraTreesClassifier"
   ]
  },
  {
   "cell_type": "code",
   "execution_count": 114,
   "metadata": {},
   "outputs": [
    {
     "data": {
      "text/plain": [
       "GridSearchCV(cv=5, estimator=ExtraTreesClassifier(random_state=42),\n",
       "             param_grid={'criterion': ['gini', 'entropy'],\n",
       "                         'max_depth': [2, 4, 5, 6, 7, 8],\n",
       "                         'max_features': ['auto', 'sqrt', 'log2'],\n",
       "                         'n_estimators': [200, 500]},\n",
       "             return_train_score=True)"
      ]
     },
     "execution_count": 114,
     "metadata": {},
     "output_type": "execute_result"
    }
   ],
   "source": [
    "et= ExtraTreesClassifier(random_state=42)\n",
    "et_param = { \n",
    "    'n_estimators': [200, 500],\n",
    "    'max_features': ['auto', 'sqrt', 'log2'],\n",
    "    'max_depth' : [2,4,5,6,7,8],\n",
    "    'criterion' :['gini', 'entropy']\n",
    "}\n",
    "et_grid = GridSearchCV(et, et_param,cv=5, return_train_score=True, )\n",
    "et_grid.fit(X_train,y_train)"
   ]
  },
  {
   "cell_type": "code",
   "execution_count": 115,
   "metadata": {},
   "outputs": [
    {
     "name": "stdout",
     "output_type": "stream",
     "text": [
      "Best Mean Cross Validation Score is 0.8314673913043478\n",
      "Best Mean Cross Validation Score is {'criterion': 'entropy', 'max_depth': 7, 'max_features': 'auto', 'n_estimators': 200}\n",
      "Train score is 0.8739076154806492\n",
      "Test score is 0.8333333333333334\n"
     ]
    }
   ],
   "source": [
    "print(f'Best Mean Cross Validation Score is {et_grid.best_score_}')\n",
    "print(f'Best Mean Cross Validation Score is {et_grid.best_params_}')\n",
    "print(f'Train score is {et_grid.score(X_train,y_train)}')\n",
    "print(f'Test score is {et_grid.score(X_test,y_test)}')"
   ]
  },
  {
   "cell_type": "markdown",
   "metadata": {},
   "source": [
    "7.\tXGBoost"
   ]
  },
  {
   "cell_type": "code",
   "execution_count": 107,
   "metadata": {},
   "outputs": [
    {
     "name": "stdout",
     "output_type": "stream",
     "text": [
      "Collecting xgboost\n",
      "  Downloading xgboost-1.2.1-py3-none-win_amd64.whl (86.5 MB)\n",
      "Requirement already satisfied: numpy in d:\\anaconda\\lib\\site-packages (from xgboost) (1.19.2)\n",
      "Requirement already satisfied: scipy in d:\\anaconda\\lib\\site-packages (from xgboost) (1.4.1)\n",
      "Installing collected packages: xgboost\n",
      "Successfully installed xgboost-1.2.1\n",
      "Note: you may need to restart the kernel to use updated packages.\n"
     ]
    }
   ],
   "source": [
    "pip install xgboost"
   ]
  },
  {
   "cell_type": "code",
   "execution_count": 108,
   "metadata": {},
   "outputs": [],
   "source": [
    "from xgboost import XGBClassifier"
   ]
  },
  {
   "cell_type": "code",
   "execution_count": null,
   "metadata": {},
   "outputs": [],
   "source": [
    "xgb= XGBClassifier(random_state=42,early_stopping_rounds=2,objective= 'binary:logistic')\n",
    "xgb_param = {\n",
    "              'max_depth' : [2,4,6],\n",
    "              'n_estimators' : [50,100,150],\n",
    "              'learning_rate' : [0.1,0.5,0.6,0.8],\n",
    "               'min_child_weight' : [1,3,5,7],\n",
    "                'subsample':[0.6,0.7,0.8,0.9,1]\n",
    "             }\n",
    "xgb_grid = GridSearchCV(xgb, xgb_param,cv=5, return_train_score=True )\n",
    "xgb_grid.fit(X_train,y_train)"
   ]
  },
  {
   "cell_type": "code",
   "execution_count": 111,
   "metadata": {},
   "outputs": [
    {
     "name": "stdout",
     "output_type": "stream",
     "text": [
      "Best Mean Cross Validation Score is 0.8514052795031055\n",
      "Best parameters are {'learning_rate': 0.1, 'max_depth': 6, 'min_child_weight': 7, 'n_estimators': 150, 'subsample': 0.9}\n",
      "Train score is 0.8951310861423221\n",
      "Test score is 0.8333333333333334\n"
     ]
    }
   ],
   "source": [
    "print(f'Best Mean Cross Validation Score is {xgb_grid.best_score_}')\n",
    "print(f'Best parameters are {xgb_grid.best_params_}')\n",
    "print(f'Train score is {xgb_grid.score(X_train,y_train)}')\n",
    "print(f'Test score is {xgb_grid.score(X_test,y_test)}')"
   ]
  },
  {
   "cell_type": "markdown",
   "metadata": {},
   "source": [
    "Summary"
   ]
  },
  {
   "cell_type": "markdown",
   "metadata": {},
   "source": [
    "8.\tPredict your outcome on test or validation data for all the models"
   ]
  },
  {
   "cell_type": "code",
   "execution_count": 199,
   "metadata": {},
   "outputs": [],
   "source": [
    "classifiers={'knn':grid_knn,\n",
    "             'clf':grid_log,\n",
    "             'svc_linear':grid_param_svc_linear,\n",
    "             'svc_kernel':grid_svc_kernel,\n",
    "             'dtree':grid_dtree,\n",
    "             'bag_tree':bag_tree_grid,\n",
    "             'bag_logreg':bag_logreg_grid,\n",
    "             'paste_tree': paste_tree_grid,\n",
    "             'paste_logreg': paste_logreg_grid,\n",
    "             'rf': rf_grid,\n",
    "             'et': et_grid,\n",
    "             'adc_tree':adc_tree_grid,\n",
    "             'gb': gb_grid,\n",
    "             'xgb': xgb_grid}"
   ]
  },
  {
   "cell_type": "code",
   "execution_count": 200,
   "metadata": {},
   "outputs": [
    {
     "data": {
      "text/plain": [
       "dict_keys(['knn', 'clf', 'svc_linear', 'svc_kernel', 'dtree', 'bag_tree', 'bag_logreg', 'paste_tree', 'paste_logreg', 'rf', 'et', 'adc_tree', 'gb', 'xgb'])"
      ]
     },
     "execution_count": 200,
     "metadata": {},
     "output_type": "execute_result"
    }
   ],
   "source": [
    "classifiers.keys()"
   ]
  },
  {
   "cell_type": "code",
   "execution_count": 201,
   "metadata": {},
   "outputs": [],
   "source": [
    "results_mean_std = []\n",
    "for  key, value in classifiers.items():\n",
    "    mean = value.cv_results_['mean_test_score'][value.best_index_]\n",
    "    std=value.cv_results_['std_test_score'][value.best_index_]\n",
    "     \n",
    "    results_mean_std.append({\n",
    "        \"model\": key,\n",
    "        \"mean\": mean,\n",
    "        \"std\": std\n",
    "    })"
   ]
  },
  {
   "cell_type": "code",
   "execution_count": 202,
   "metadata": {},
   "outputs": [
    {
     "data": {
      "text/html": [
       "<div>\n",
       "<style scoped>\n",
       "    .dataframe tbody tr th:only-of-type {\n",
       "        vertical-align: middle;\n",
       "    }\n",
       "\n",
       "    .dataframe tbody tr th {\n",
       "        vertical-align: top;\n",
       "    }\n",
       "\n",
       "    .dataframe thead th {\n",
       "        text-align: right;\n",
       "    }\n",
       "</style>\n",
       "<table border=\"1\" class=\"dataframe\">\n",
       "  <thead>\n",
       "    <tr style=\"text-align: right;\">\n",
       "      <th></th>\n",
       "      <th>model</th>\n",
       "      <th>mean</th>\n",
       "      <th>std</th>\n",
       "    </tr>\n",
       "  </thead>\n",
       "  <tbody>\n",
       "    <tr>\n",
       "      <th>7</th>\n",
       "      <td>paste_tree</td>\n",
       "      <td>0.856466</td>\n",
       "      <td>0.033926</td>\n",
       "    </tr>\n",
       "    <tr>\n",
       "      <th>13</th>\n",
       "      <td>xgb</td>\n",
       "      <td>0.851405</td>\n",
       "      <td>0.024005</td>\n",
       "    </tr>\n",
       "    <tr>\n",
       "      <th>5</th>\n",
       "      <td>bag_tree</td>\n",
       "      <td>0.850231</td>\n",
       "      <td>0.039314</td>\n",
       "    </tr>\n",
       "    <tr>\n",
       "      <th>4</th>\n",
       "      <td>dtree</td>\n",
       "      <td>0.840198</td>\n",
       "      <td>0.028300</td>\n",
       "    </tr>\n",
       "    <tr>\n",
       "      <th>9</th>\n",
       "      <td>rf</td>\n",
       "      <td>0.837725</td>\n",
       "      <td>0.021821</td>\n",
       "    </tr>\n",
       "    <tr>\n",
       "      <th>11</th>\n",
       "      <td>adc_tree</td>\n",
       "      <td>0.837694</td>\n",
       "      <td>0.023440</td>\n",
       "    </tr>\n",
       "    <tr>\n",
       "      <th>1</th>\n",
       "      <td>clf</td>\n",
       "      <td>0.835250</td>\n",
       "      <td>0.026020</td>\n",
       "    </tr>\n",
       "    <tr>\n",
       "      <th>2</th>\n",
       "      <td>svc_linear</td>\n",
       "      <td>0.831499</td>\n",
       "      <td>0.031848</td>\n",
       "    </tr>\n",
       "    <tr>\n",
       "      <th>10</th>\n",
       "      <td>et</td>\n",
       "      <td>0.831467</td>\n",
       "      <td>0.018472</td>\n",
       "    </tr>\n",
       "    <tr>\n",
       "      <th>6</th>\n",
       "      <td>bag_logreg</td>\n",
       "      <td>0.830262</td>\n",
       "      <td>0.038530</td>\n",
       "    </tr>\n",
       "    <tr>\n",
       "      <th>8</th>\n",
       "      <td>paste_logreg</td>\n",
       "      <td>0.830241</td>\n",
       "      <td>0.026423</td>\n",
       "    </tr>\n",
       "    <tr>\n",
       "      <th>12</th>\n",
       "      <td>gb</td>\n",
       "      <td>0.820248</td>\n",
       "      <td>0.024616</td>\n",
       "    </tr>\n",
       "    <tr>\n",
       "      <th>0</th>\n",
       "      <td>knn</td>\n",
       "      <td>0.816479</td>\n",
       "      <td>0.036696</td>\n",
       "    </tr>\n",
       "    <tr>\n",
       "      <th>3</th>\n",
       "      <td>svc_kernel</td>\n",
       "      <td>0.802748</td>\n",
       "      <td>0.035030</td>\n",
       "    </tr>\n",
       "  </tbody>\n",
       "</table>\n",
       "</div>"
      ],
      "text/plain": [
       "           model      mean       std\n",
       "7     paste_tree  0.856466  0.033926\n",
       "13           xgb  0.851405  0.024005\n",
       "5       bag_tree  0.850231  0.039314\n",
       "4          dtree  0.840198  0.028300\n",
       "9             rf  0.837725  0.021821\n",
       "11      adc_tree  0.837694  0.023440\n",
       "1            clf  0.835250  0.026020\n",
       "2     svc_linear  0.831499  0.031848\n",
       "10            et  0.831467  0.018472\n",
       "6     bag_logreg  0.830262  0.038530\n",
       "8   paste_logreg  0.830241  0.026423\n",
       "12            gb  0.820248  0.024616\n",
       "0            knn  0.816479  0.036696\n",
       "3     svc_kernel  0.802748  0.035030"
      ]
     },
     "execution_count": 202,
     "metadata": {},
     "output_type": "execute_result"
    }
   ],
   "source": [
    "accuracy_df = pd.DataFrame(results_mean_std, columns=['model', 'mean', 'std'])\n",
    "\n",
    "accuracy_df.sort_values(by=['mean'], inplace=True,ascending=False)\n",
    "accuracy_df"
   ]
  },
  {
   "cell_type": "markdown",
   "metadata": {},
   "source": [
    "9.\tCreate a correlation matrix using prediction from all the models"
   ]
  },
  {
   "cell_type": "code",
   "execution_count": 137,
   "metadata": {},
   "outputs": [],
   "source": [
    "# Create a prediction of all models on the test set\n",
    "predictions_all = {}\n",
    "for  key, value in classifiers.items():\n",
    "    \n",
    "    best_model = value.best_estimator_\n",
    "    predictions = best_model.predict(X_test)\n",
    "    predictions_all[key] = predictions"
   ]
  },
  {
   "cell_type": "code",
   "execution_count": 142,
   "metadata": {},
   "outputs": [],
   "source": [
    "pred=pd.DataFrame(predictions_all)"
   ]
  },
  {
   "cell_type": "code",
   "execution_count": 148,
   "metadata": {},
   "outputs": [
    {
     "data": {
      "text/plain": [
       "Text(0.5, 1, 'correlation of the test labels')"
      ]
     },
     "execution_count": 148,
     "metadata": {},
     "output_type": "execute_result"
    },
    {
     "data": {
      "image/png": "[encoded data removed]",
      "text/plain": [
       "<Figure size 648x432 with 2 Axes>"
      ]
     },
     "metadata": {
      "needs_background": "light"
     },
     "output_type": "display_data"
    }
   ],
   "source": [
    "#Correlation map\n",
    "\n",
    "fig, ax=plt.subplots(nrows=1, ncols=1, figsize=(9,6))\n",
    "\n",
    "heatmap=sns.heatmap(pred.corr(), annot=True, cmap='coolwarm', ax=ax)\n",
    "heatmap.set_title('correlation of the test labels')\n"
   ]
  },
  {
   "cell_type": "code",
   "execution_count": 151,
   "metadata": {},
   "outputs": [],
   "source": [
    "def get_redundant_pairs(df):\n",
    "    '''get diagonal and lower trinagular pairs of correlation matrix'''\n",
    "    pairs_to_drop=set()\n",
    "    cols=df.columns\n",
    "    for i in range(0, df.shape[1]):\n",
    "        for j in range(0, i+1):\n",
    "            pairs_to_drop.add((cols[i], cols[j]))\n",
    "    return pairs_to_drop\n",
    "\n",
    "def get_bottom_abs_correlations(df, n=5):\n",
    "    au_corr=df.corr().abs().unstack()\n",
    "    labels_to_drop=get_redundant_pairs(df)\n",
    "    au_corr=au_corr.drop(labels=labels_to_drop).sort_values(ascending=True)\n",
    "    return au_corr[0:n]\n",
    "        "
   ]
  },
  {
   "cell_type": "code",
   "execution_count": 152,
   "metadata": {},
   "outputs": [
    {
     "name": "stdout",
     "output_type": "stream",
     "text": [
      "Bottom Absolute Correlations\n",
      "knn         adc_tree    0.710043\n",
      "svc_kernel  adc_tree    0.716306\n",
      "knn         gb          0.723218\n",
      "            bag_tree    0.738719\n",
      "bag_logreg  adc_tree    0.744581\n",
      "dtype: float64\n"
     ]
    }
   ],
   "source": [
    "print('Bottom Absolute Correlations')\n",
    "print(get_bottom_abs_correlations(pred,5))"
   ]
  },
  {
   "cell_type": "markdown",
   "metadata": {},
   "source": [
    "10.\tUse Voting Classifier to combine results of top 5 models (all the models including models you ran for HW2."
   ]
  },
  {
   "cell_type": "code",
   "execution_count": 153,
   "metadata": {},
   "outputs": [],
   "source": [
    "from sklearn.ensemble import VotingClassifier"
   ]
  },
  {
   "cell_type": "code",
   "execution_count": null,
   "metadata": {},
   "outputs": [],
   "source": [
    "vote=VotingClassifier(estimators=\n",
    "                     [('paste_tree', paste_tree_grid.best_estimator_),\n",
    "                        ('xgb',xgb_grid.best_estimator_),\n",
    "                         ('bag_tree',bag_tree_grid.best_estimator_),\n",
    "                          ('dtree',grid_dtree.best_estimator_),\n",
    "                           ('rf',rf_grid.best_estimator_)])\n",
    "\n",
    "vote_param={ 'voting':['hard', 'soft']}\n",
    "\n",
    "vote_grid=GridSearchCV(vote, vote_param, cv=5, return_train_score=True)\n",
    "\n",
    "vote_grid.fit(X_train, y_train)"
   ]
  },
  {
   "cell_type": "code",
   "execution_count": 204,
   "metadata": {},
   "outputs": [
    {
     "name": "stdout",
     "output_type": "stream",
     "text": [
      "Best Mean Cross Validation Score is 0.8414518633540373\n",
      "Best parameters are {'voting': 'hard'}\n",
      "Train score is 0.9051186017478152\n",
      "Test score is 0.8333333333333334\n"
     ]
    }
   ],
   "source": [
    "print(f'Best Mean Cross Validation Score is {vote_grid.best_score_}')\n",
    "print(f'Best parameters are {vote_grid.best_params_}')\n",
    "print(f'Train score is {vote_grid.score(X_train,y_train)}')\n",
    "print(f'Test score is {vote_grid.score(X_test,y_test)}')"
   ]
  },
  {
   "cell_type": "markdown",
   "metadata": {},
   "source": [
    "11.\tUse Voting Classifier to combine results of 5 models with least correlation."
   ]
  },
  {
   "cell_type": "code",
   "execution_count": 210,
   "metadata": {},
   "outputs": [
    {
     "data": {
      "text/plain": [
       "GridSearchCV(cv=5,\n",
       "             estimator=VotingClassifier(estimators=[('adc_tree',\n",
       "                                                     AdaBoostClassifier(base_estimator=DecisionTreeClassifier(max_depth=2),\n",
       "                                                                        learning_rate=0.1,\n",
       "                                                                        n_estimators=150,\n",
       "                                                                        random_state=42)),\n",
       "                                                    ('knn',\n",
       "                                                     KNeighborsClassifier())]),\n",
       "             param_grid={'voting': ['hard', 'soft']}, return_train_score=True)"
      ]
     },
     "execution_count": 210,
     "metadata": {},
     "output_type": "execute_result"
    }
   ],
   "source": [
    "vote_l=VotingClassifier(estimators=\n",
    "                     [('adc_tree', adc_tree_grid.best_estimator_), \n",
    "                               \n",
    "                               ('knn', grid_knn.best_estimator_)])\n",
    "\n",
    "vote_l_param={ 'voting':['hard', 'soft']}\n",
    "\n",
    "vote_l_grid=GridSearchCV(vote_l, vote_l_param, cv=5, return_train_score=True)\n",
    "\n",
    "vote_l_grid.fit(X_train, y_train)"
   ]
  },
  {
   "cell_type": "code",
   "execution_count": 211,
   "metadata": {},
   "outputs": [
    {
     "name": "stdout",
     "output_type": "stream",
     "text": [
      "Best Mean Cross Validation Score is 0.831475155279503\n",
      "Best parameters are {'voting': 'hard'}\n",
      "Train score is 0.8739076154806492\n",
      "Test score is 0.8111111111111111\n"
     ]
    }
   ],
   "source": [
    "print(f'Best Mean Cross Validation Score is {vote_l_grid.best_score_}')\n",
    "print(f'Best parameters are {vote_l_grid.best_params_}')\n",
    "print(f'Train score is {vote_l_grid.score(X_train,y_train)}')\n",
    "print(f'Test score is {vote_l_grid.score(X_test,y_test)}')"
   ]
  },
  {
   "cell_type": "markdown",
   "metadata": {},
   "source": [
    "12.\tUse Stacking Classifier to combine results of top 5 models (all the models including models you ran for HW2)"
   ]
  },
  {
   "cell_type": "code",
   "execution_count": 167,
   "metadata": {},
   "outputs": [],
   "source": [
    "from sklearn.ensemble import StackingClassifier"
   ]
  },
  {
   "cell_type": "code",
   "execution_count": null,
   "metadata": {},
   "outputs": [],
   "source": [
    "stack=StackingClassifier(estimators=\n",
    "                     [('paste_tree', paste_tree_grid.best_estimator_),\n",
    "                        ('xgb',xgb_grid.best_estimator_),\n",
    "                         ('bag_tree',bag_tree_grid.best_estimator_),\n",
    "                          ('dtree',grid_dtree.best_estimator_),\n",
    "                           ('rf',rf_grid.best_estimator_)], final_estimator=LogisticRegression())\n",
    "\n",
    "stack_param={\n",
    "              'final_estimator__C' : [0.1,0.2],\n",
    "              'stack_method':['auto', 'predict_proba']\n",
    "             }\n",
    "\n",
    "stack_grid=GridSearchCV(stack, stack_param, cv=4, return_train_score=True)\n",
    "                          \n",
    "stack_grid.fit(X_train, y_train)                            "
   ]
  },
  {
   "cell_type": "code",
   "execution_count": 174,
   "metadata": {
    "scrolled": true
   },
   "outputs": [
    {
     "name": "stdout",
     "output_type": "stream",
     "text": [
      "Best Mean Cross Validation Score is 0.8339800995024875\n",
      "Best parameters are {'final_estimator__C': 0.2, 'stack_method': 'auto'}\n",
      "Train score is 0.9063670411985019\n",
      "Test score is 0.8333333333333334\n"
     ]
    }
   ],
   "source": [
    "print(f'Best Mean Cross Validation Score is {stack_grid.best_score_}')\n",
    "print(f'Best parameters are {stack_grid.best_params_}')\n",
    "print(f'Train score is {stack_grid.score(X_train,y_train)}')\n",
    "print(f'Test score is {stack_grid.score(X_test,y_test)}')"
   ]
  },
  {
   "cell_type": "markdown",
   "metadata": {},
   "source": [
    "13.\tUse Stacking Classifier to combine results of models with least correlation."
   ]
  },
  {
   "cell_type": "code",
   "execution_count": 207,
   "metadata": {},
   "outputs": [
    {
     "data": {
      "text/plain": [
       "GridSearchCV(cv=5,\n",
       "             estimator=StackingClassifier(estimators=[('adc_tree',\n",
       "                                                       AdaBoostClassifier(base_estimator=DecisionTreeClassifier(max_depth=2),\n",
       "                                                                          learning_rate=0.1,\n",
       "                                                                          n_estimators=150,\n",
       "                                                                          random_state=42)),\n",
       "                                                      ('svc_kernel',\n",
       "                                                       SVC(C=1.6, gamma=0.1,\n",
       "                                                           kernel='sigmoid')),\n",
       "                                                      ('knn',\n",
       "                                                       KNeighborsClassifier())],\n",
       "                                          final_estimator=LogisticRegression()),\n",
       "             param_grid={'final_estimator__C': [0.001, 0.01, 0.1, 1, 10, 100],\n",
       "                         'final_estimator__penalty': ['l1', 'l2']},\n",
       "             return_train_score=True)"
      ]
     },
     "execution_count": 207,
     "metadata": {},
     "output_type": "execute_result"
    }
   ],
   "source": [
    "stack_l = StackingClassifier(estimators=\n",
    "                              [('adc_tree', adc_tree_grid.best_estimator_), \n",
    "                               ('svc_kernel',grid_svc_kernel.best_estimator_),\n",
    "                               ('knn', grid_knn.best_estimator_)\n",
    "                                                             ], \n",
    "                        final_estimator=LogisticRegression())\n",
    "stack_l_param = {\n",
    "              'final_estimator__C': [0.001,0.01,0.1,1,10,100],\n",
    "              'final_estimator__penalty': ['l1','l2']\n",
    "             }\n",
    "stack_l_grid = GridSearchCV(stack_l, stack_l_param,cv=5, return_train_score=True, )\n",
    "stack_l_grid.fit(X_train,y_train)"
   ]
  },
  {
   "cell_type": "code",
   "execution_count": 208,
   "metadata": {},
   "outputs": [
    {
     "name": "stdout",
     "output_type": "stream",
     "text": [
      "Best Mean Cross Validation Score is 0.8377251552795031\n",
      "Best parameters are {'final_estimator__C': 1, 'final_estimator__penalty': 'l2'}\n",
      "Train score is 0.8614232209737828\n",
      "Test score is 0.8666666666666667\n"
     ]
    }
   ],
   "source": [
    "print(f'Best Mean Cross Validation Score is {stack_l_grid.best_score_}')\n",
    "print(f'Best parameters are {stack_l_grid.best_params_}')\n",
    "print(f'Train score is {stack_l_grid.score(X_train,y_train)}')\n",
    "print(f'Test score is {stack_l_grid.score(X_test,y_test)}')"
   ]
  },
  {
   "cell_type": "markdown",
   "metadata": {},
   "source": [
    "Prediction on Test Data using best model"
   ]
  },
  {
   "cell_type": "markdown",
   "metadata": {},
   "source": [
    "I got two models Decision tree using pasting and XG Boost which have test score of 0.856 and 0.851 respectively.\n",
    "I chose XGBoost model for prediction"
   ]
  },
  {
   "cell_type": "code",
   "execution_count": null,
   "metadata": {},
   "outputs": [],
   "source": [
    "best_model = XGBClassifier(learning_rate = 0.1,max_depth = 6,min_child_weight =7, n_estimators =150,subsample =0.9)\n",
    "best_model.fit(X_train,y_train)"
   ]
  },
  {
   "cell_type": "code",
   "execution_count": 187,
   "metadata": {},
   "outputs": [
    {
     "data": {
      "text/plain": [
       "0.8333333333333334"
      ]
     },
     "execution_count": 187,
     "metadata": {},
     "output_type": "execute_result"
    }
   ],
   "source": [
    "best_model.score(X_test,y_test)"
   ]
  },
  {
   "cell_type": "code",
   "execution_count": 190,
   "metadata": {},
   "outputs": [],
   "source": [
    "X_train_pred = best_model.predict(X_train)\n",
    "X_test_pred  = best_model.predict(X_test)"
   ]
  },
  {
   "cell_type": "code",
   "execution_count": 191,
   "metadata": {},
   "outputs": [
    {
     "name": "stdout",
     "output_type": "stream",
     "text": [
      "train mse: 0.10112359550561797\n",
      "train rmse: 0.317999364001908\n",
      "train r2: 0.5700226649170941\n",
      "\n",
      "test mse: 0.16666666666666666\n",
      "test rmse: 0.408248290463863\n",
      "test r2: 0.32126696832579194\n",
      "Test Performance:  0.8333333333333334\n",
      "Train Performance:  0.898876404494382\n"
     ]
    }
   ],
   "source": [
    "from math import sqrt\n",
    "from sklearn.metrics import mean_squared_error\n",
    "from sklearn.metrics import r2_score\n",
    "\n",
    "print('train mse: {}'.format(mean_squared_error(y_train, X_train_pred)))\n",
    "print('train rmse: {}'.format(sqrt(mean_squared_error(y_train, X_train_pred))))\n",
    "print('train r2: {}'.format(r2_score(y_train, X_train_pred)))\n",
    "print()\n",
    "print('test mse: {}'.format(mean_squared_error(y_test, X_test_pred)))\n",
    "print('test rmse: {}'.format(sqrt(mean_squared_error(y_test, X_test_pred))))\n",
    "print('test r2: {}'.format(r2_score(y_test, X_test_pred)))\n",
    "\n",
    "print(\"Test Performance: \", best_model.score(X_test,y_test))\n",
    "print(\"Train Performance: \", best_model.score(X_train,y_train))"
   ]
  }
 ],
 "metadata": {
  "colab": {
   "collapsed_sections": [
    "kb8vECwMvdMj"
   ],
   "name": "HW2_Classification_Sample_1.ipynb",
   "provenance": []
  },
  "kernelspec": {
   "display_name": "Python 3",
   "language": "python",
   "name": "python3"
  },
  "language_info": {
   "codemirror_mode": {
    "name": "ipython",
    "version": 3
   },
   "file_extension": ".py",
   "mimetype": "text/x-python",
   "name": "python",
   "nbconvert_exporter": "python",
   "pygments_lexer": "ipython3",
   "version": "3.7.6"
  },
  "toc": {
   "base_numbering": 1,
   "nav_menu": {},
   "number_sections": true,
   "sideBar": true,
   "skip_h1_title": false,
   "title_cell": "Table of Contents",
   "title_sidebar": "Contents",
   "toc_cell": false,
   "toc_position": {},
   "toc_section_display": true,
   "toc_window_display": true
  },
  "varInspector": {
   "cols": {
    "lenName": 16,
    "lenType": 16,
    "lenVar": 40
   },
   "kernels_config": {
    "python": {
     "delete_cmd_postfix": "",
     "delete_cmd_prefix": "del ",
     "library": "var_list.py",
     "varRefreshCmd": "print(var_dic_list())"
    },
    "r": {
     "delete_cmd_postfix": ") ",
     "delete_cmd_prefix": "rm(",
     "library": "var_list.r",
     "varRefreshCmd": "cat(var_dic_list()) "
    }
   },
   "types_to_exclude": [
    "module",
    "function",
    "builtin_function_or_method",
    "instance",
    "_Feature"
   ],
   "window_display": true
  }
 },
 "nbformat": 4,
 "nbformat_minor": 1
}
