{
 "cells": [
  {
   "cell_type": "markdown",
   "metadata": {
    "id": "XXrHqZ_R3EfR"
   },
   "source": [
    "# Homework 1 Due Date -7th Sep (11:59 pm)\n",
    "Submissions: Please submit .ipynb file and pdf file to eLearning"
   ]
  },
  {
   "cell_type": "code",
   "execution_count": 3,
   "metadata": {},
   "outputs": [
    {
     "name": "stdout",
     "output_type": "stream",
     "text": [
      "Collecting torchvision\n",
      "  Downloading torchvision-0.5.0-cp37-cp37m-win_amd64.whl (1.2 MB)\n",
      "Note: you may need to restart the kernel to use updated packages.\n"
     ]
    },
    {
     "name": "stderr",
     "output_type": "stream",
     "text": [
      "ERROR: Could not find a version that satisfies the requirement torch==1.4.0 (from torchvision) (from versions: 0.1.2, 0.1.2.post1, 0.1.2.post2, 1.7.0)\n",
      "ERROR: No matching distribution found for torch==1.4.0 (from torchvision)\n"
     ]
    }
   ],
   "source": [
    "pip install torchvision "
   ]
  },
  {
   "cell_type": "code",
   "execution_count": 2,
   "metadata": {
    "ExecuteTime": {
     "end_time": "2019-01-22T19:57:47.188990Z",
     "start_time": "2019-01-22T19:57:46.107420Z"
    },
    "id": "9hCgUyxQ3EfS"
   },
   "outputs": [
    {
     "ename": "ModuleNotFoundError",
     "evalue": "No module named 'torch'",
     "output_type": "error",
     "traceback": [
      "\u001b[1;31m---------------------------------------------------------------------------\u001b[0m",
      "\u001b[1;31mModuleNotFoundError\u001b[0m                       Traceback (most recent call last)",
      "\u001b[1;32m<ipython-input-2-ca374979e494>\u001b[0m in \u001b[0;36m<module>\u001b[1;34m\u001b[0m\n\u001b[1;32m----> 1\u001b[1;33m \u001b[1;32mimport\u001b[0m \u001b[0mtorch\u001b[0m\u001b[1;33m\u001b[0m\u001b[1;33m\u001b[0m\u001b[0m\n\u001b[0m\u001b[0;32m      2\u001b[0m \u001b[1;32mimport\u001b[0m \u001b[0mnumpy\u001b[0m \u001b[1;32mas\u001b[0m \u001b[0mnp\u001b[0m\u001b[1;33m\u001b[0m\u001b[1;33m\u001b[0m\u001b[0m\n\u001b[0;32m      3\u001b[0m \u001b[1;32mimport\u001b[0m \u001b[0mtime\u001b[0m\u001b[1;33m\u001b[0m\u001b[1;33m\u001b[0m\u001b[0m\n",
      "\u001b[1;31mModuleNotFoundError\u001b[0m: No module named 'torch'"
     ]
    }
   ],
   "source": [
    "import torch\n",
    "import numpy as np\n",
    "import time"
   ]
  },
  {
   "cell_type": "markdown",
   "metadata": {
    "id": "2TU6l0nC3EfW"
   },
   "source": [
    "## Question 1. Speedtest for vectorization - 10 Points\n",
    "\n",
    "Your goal is to measure the speed of linear algebra operations for different levels of vectorization.\n",
    "\n",
    "1. Construct two matrices $A$ and $B$ with Gaussian random entries of size $1024 \\times 1024$. \n",
    "1. Compute $C = A B$ using matrix-matrix operations and report the time. (Hint: Use torch.mm)\n",
    "1. Compute $C = A B$, treating $A$ as a matrix but computing the result for each column of $B$ one at a time. Report the time. (hint use torch.mv inside a for loop)\n",
    "1. Compute $C = A B$, treating $A$ and $B$ as collections of vectors. Report the time. (Hint: use torch.dot inside nested for loop)"
   ]
  },
  {
   "cell_type": "code",
   "execution_count": null,
   "metadata": {
    "id": "wkKjtX0HH2wz"
   },
   "outputs": [],
   "source": [
    "## Solution 1\n",
    "torch.manual_seed(42)\n",
    "A=\n",
    "B=\n",
    "# your code here"
   ]
  },
  {
   "cell_type": "code",
   "execution_count": null,
   "metadata": {
    "colab": {
     "base_uri": "https://localhost:8080/",
     "height": 34
    },
    "executionInfo": {
     "elapsed": 1004,
     "status": "ok",
     "timestamp": 1598857028835,
     "user": {
      "displayName": "Shaannoor Mann",
      "photoUrl": "",
      "userId": "02520257695567980696"
     },
     "user_tz": 300
    },
    "id": "kSMH_j5OD2ZB",
    "outputId": "ad479270-43fc-44b0-860e-e0787b674de6"
   },
   "outputs": [
    {
     "name": "stdout",
     "output_type": "stream",
     "text": [
      "Matrix by matrix: 0.018576383590698242 seconds\n"
     ]
    }
   ],
   "source": [
    "## Solution 2\n",
    "start=time.time()\n",
    "\n",
    "# your code here\n",
    "\n",
    "print(\"Matrix by matrix: \" + str(time.time()-start) + \" seconds\")"
   ]
  },
  {
   "cell_type": "code",
   "execution_count": null,
   "metadata": {
    "colab": {
     "base_uri": "https://localhost:8080/",
     "height": 34
    },
    "executionInfo": {
     "elapsed": 1149,
     "status": "ok",
     "timestamp": 1598857032919,
     "user": {
      "displayName": "Shaannoor Mann",
      "photoUrl": "",
      "userId": "02520257695567980696"
     },
     "user_tz": 300
    },
    "id": "-tU8yGBP-Crk",
    "outputId": "6ef64e52-a91c-4c63-f077-132cd5eae9f3"
   },
   "outputs": [
    {
     "name": "stdout",
     "output_type": "stream",
     "text": [
      "Matrix by vector: 0.15561580657958984 seconds\n"
     ]
    }
   ],
   "source": [
    "## Solution 3\n",
    "C= torch.empty(1024,1024)\n",
    "start = time.time()\n",
    "\n",
    "# your code here\n",
    "\n",
    "print(\"Matrix by vector: \" + str(time.time()-start) + \" seconds\") "
   ]
  },
  {
   "cell_type": "code",
   "execution_count": null,
   "metadata": {
    "colab": {
     "base_uri": "https://localhost:8080/",
     "height": 34
    },
    "executionInfo": {
     "elapsed": 19871,
     "status": "ok",
     "timestamp": 1598857055441,
     "user": {
      "displayName": "Shaannoor Mann",
      "photoUrl": "",
      "userId": "02520257695567980696"
     },
     "user_tz": 300
    },
    "id": "MFgJCFf6DUFK",
    "outputId": "4f4ffa68-3f4a-458d-d547-3478c6f46cbb"
   },
   "outputs": [
    {
     "name": "stdout",
     "output_type": "stream",
     "text": [
      "vector by vector: 18.647377490997314 seconds\n"
     ]
    }
   ],
   "source": [
    "## Solution 4\n",
    "C= torch.empty(1024,1024)\n",
    "start = time.time()\n",
    "\n",
    "# your code here\n",
    "\n",
    "print(\"vector by vector: \" + str(time.time()-start) + \" seconds\")  "
   ]
  },
  {
   "cell_type": "markdown",
   "metadata": {
    "id": "TtYsJM4mJNdE"
   },
   "source": [
    "## Question 2 : Redo Question 1 by using GPU - 10 Points"
   ]
  },
  {
   "cell_type": "markdown",
   "metadata": {
    "id": "fxJ1UlTf3Efb"
   },
   "source": [
    "##Using GPUs\n",
    "\n",
    "How to use GPUs in Google Colab<br>\n",
    "In Google Colab -- Go to Runtime Tab at top -- select change runtime type -- for hardware accelartor choose GPU"
   ]
  },
  {
   "cell_type": "code",
   "execution_count": null,
   "metadata": {
    "id": "9K0dZeN9P_8E"
   },
   "outputs": [],
   "source": [
    "import torch\n",
    "import numpy as np\n",
    "import time"
   ]
  },
  {
   "cell_type": "code",
   "execution_count": null,
   "metadata": {
    "colab": {
     "base_uri": "https://localhost:8080/",
     "height": 34
    },
    "executionInfo": {
     "elapsed": 1039,
     "status": "ok",
     "timestamp": 1598857063511,
     "user": {
      "displayName": "Shaannoor Mann",
      "photoUrl": "",
      "userId": "02520257695567980696"
     },
     "user_tz": 300
    },
    "id": "_6ilpofMIe1e",
    "outputId": "ff5c482a-40fb-44e2-8356-180c690f64e1"
   },
   "outputs": [
    {
     "name": "stdout",
     "output_type": "stream",
     "text": [
      "cuda:0\n"
     ]
    }
   ],
   "source": [
    "# Check if GPU is availaible\n",
    "device = torch.device('cuda:0' if torch.cuda.is_available() else 'cpu')\n",
    "print(device)"
   ]
  },
  {
   "cell_type": "code",
   "execution_count": null,
   "metadata": {
    "id": "4XMhjifbJcu0"
   },
   "outputs": [],
   "source": [
    "## Solution 1\n",
    "torch.manual_seed(42)\n",
    "A= torch.randn((1024, 1024),device=device)\n",
    "B= torch.randn((1024, 1024),device=device)"
   ]
  },
  {
   "cell_type": "code",
   "execution_count": null,
   "metadata": {
    "colab": {
     "base_uri": "https://localhost:8080/",
     "height": 34
    },
    "executionInfo": {
     "elapsed": 1003,
     "status": "ok",
     "timestamp": 1598857080585,
     "user": {
      "displayName": "Shaannoor Mann",
      "photoUrl": "",
      "userId": "02520257695567980696"
     },
     "user_tz": 300
    },
    "id": "pn-ZKI7sK9Oh",
    "outputId": "08d1b113-e99a-428d-8868-6ab57f75d053"
   },
   "outputs": [
    {
     "name": "stdout",
     "output_type": "stream",
     "text": [
      "Matrix by matrix: 0.0006418228149414062 seconds\n"
     ]
    }
   ],
   "source": [
    "## Solution 2\n",
    "start=time.time()\n",
    "\n",
    "# your code here\n",
    "\n",
    "print(\"Matrix by matrix: \" + str(time.time()-start) + \" seconds\")\n",
    "#print(C)"
   ]
  },
  {
   "cell_type": "code",
   "execution_count": null,
   "metadata": {
    "colab": {
     "base_uri": "https://localhost:8080/",
     "height": 34
    },
    "executionInfo": {
     "elapsed": 1077,
     "status": "ok",
     "timestamp": 1598857085710,
     "user": {
      "displayName": "Shaannoor Mann",
      "photoUrl": "",
      "userId": "02520257695567980696"
     },
     "user_tz": 300
    },
    "id": "GcHPGEitLL8i",
    "outputId": "8fd684e5-05fd-4925-cdd2-d8ec18d1c21c"
   },
   "outputs": [
    {
     "name": "stdout",
     "output_type": "stream",
     "text": [
      "Matrix by vector: 0.03213191032409668 seconds\n"
     ]
    }
   ],
   "source": [
    "## Solution 3\n",
    "C= torch.empty((1024, 1024),device=device)\n",
    "start = time.time()\n",
    "\n",
    "# your code here\n",
    "\n",
    "\n",
    "print(\"Matrix by vector: \" + str(time.time()-start) + \" seconds\")  "
   ]
  },
  {
   "cell_type": "code",
   "execution_count": null,
   "metadata": {
    "colab": {
     "base_uri": "https://localhost:8080/",
     "height": 34
    },
    "executionInfo": {
     "elapsed": 71228,
     "status": "ok",
     "timestamp": 1598857233572,
     "user": {
      "displayName": "Shaannoor Mann",
      "photoUrl": "",
      "userId": "02520257695567980696"
     },
     "user_tz": 300
    },
    "id": "wZ5LWSa2Lrdw",
    "outputId": "1cc4fe95-34d9-4486-a033-22bf4c323a03"
   },
   "outputs": [
    {
     "name": "stdout",
     "output_type": "stream",
     "text": [
      "vector by vector: 70.23401069641113 seconds\n"
     ]
    }
   ],
   "source": [
    "## Solution 4\n",
    "D= torch.empty((1024, 1024),device=device)\n",
    "start = time.time()\n",
    "\n",
    "# your code here\n",
    "\n",
    "\n",
    "print(\"vector by vector: \" + str(time.time()-start) + \" seconds\")  "
   ]
  },
  {
   "cell_type": "markdown",
   "metadata": {
    "id": "LQ9ufe5u3Eff"
   },
   "source": [
    "## Question 3. PyTorch Tensor and NumPy - 10 Points\n",
    "\n",
    "Your goal is to measure the speed penalty between PyTorch Tensors and Python when converting data between both. We are going to do this as follows:\n",
    "\n",
    "1. Create two Gaussian random matrices $A, B$ of size $10000 \\times 10000$ in PyTorch. \n",
    "1. Compute a vector $\\mathbf{c} \\in \\mathbb{R}^{10000}$ where $c_i = \\|A B_{i\\cdot}\\|^2$ where $\\mathbf{c}$ is a **NumPy** vector.\n",
    "\n",
    "<br>**Hint : each elemnt of $c_i$ can be computed as \n",
    "   \n",
    "\n",
    "```\n",
    "torch.norm(torch.mv(A,B[:,i]))**2\n",
    "```\n",
    "\n",
    "To see the difference in speed due to Python perform the following two experiments and measure the time:\n",
    "\n",
    "1. Compute $\\|A B_{i\\cdot}\\|^2$ one at a time and assign its outcome to $\\mathbf{c}_i$ directly.\n",
    "1. Use an intermediate storage vector $\\mathbf{d}$ in PyTorch for assignments and copy to NumPy at the end."
   ]
  },
  {
   "cell_type": "code",
   "execution_count": null,
   "metadata": {
    "id": "V6kn4JOw3Efg"
   },
   "outputs": [],
   "source": [
    "## Solution 1\n",
    "torch.manual_seed(42)\n",
    "A= torch.randn((10000, 10000),device=device)\n",
    "B= torch.randn((10000,10000),device=device)"
   ]
  },
  {
   "cell_type": "code",
   "execution_count": null,
   "metadata": {
    "colab": {
     "base_uri": "https://localhost:8080/",
     "height": 34
    },
    "executionInfo": {
     "elapsed": 12918,
     "status": "ok",
     "timestamp": 1598858569875,
     "user": {
      "displayName": "Shaannoor Mann",
      "photoUrl": "",
      "userId": "02520257695567980696"
     },
     "user_tz": 300
    },
    "id": "dBrS3OFpS5z9",
    "outputId": "b0a30edd-b1ea-4aec-8a35-ccc1b04a535c"
   },
   "outputs": [
    {
     "name": "stdout",
     "output_type": "stream",
     "text": [
      " one at a time: 11.863577365875244 seconds\n"
     ]
    }
   ],
   "source": [
    "## Solution 2a - One at a time\n",
    "c=np.empty(10000)\n",
    "start=time.time()\n",
    "for i in range(10000):\n",
    "  \n",
    "  c[i] = # your code here\n",
    "\n",
    "print(\" one at a time: \" + str(time.time()-start)+ \" seconds\")"
   ]
  },
  {
   "cell_type": "code",
   "execution_count": null,
   "metadata": {
    "colab": {
     "base_uri": "https://localhost:8080/",
     "height": 34
    },
    "executionInfo": {
     "elapsed": 12492,
     "status": "ok",
     "timestamp": 1598857686772,
     "user": {
      "displayName": "Shaannoor Mann",
      "photoUrl": "",
      "userId": "02520257695567980696"
     },
     "user_tz": 300
    },
    "id": "lbl6TeBbS61y",
    "outputId": "1d3527b6-a032-450b-a5b0-45bf28c7531e"
   },
   "outputs": [
    {
     "name": "stdout",
     "output_type": "stream",
     "text": [
      "convert at the end: 11.446649312973022seconds\n"
     ]
    }
   ],
   "source": [
    "## Solution 2b - Copy to numpy at the end\n",
    "d= torch.empty(10000,device=device)\n",
    "start= time.time()\n",
    "for i in range(10000):\n",
    "  \n",
    "  d[i]=# your code here\n",
    "\n",
    "c= d.cpu().numpy()\n",
    "print(\"convert at the end: \" + str(time.time()-start)+ \"seconds\")"
   ]
  },
  {
   "cell_type": "markdown",
   "metadata": {
    "id": "pW2DEN5x3Efj"
   },
   "source": [
    "## Question 4. Memory efficient computation - 10 Points\n",
    "\n",
    "We want to compute $C \\leftarrow A \\cdot B + C$, where $A, B$ and $C$ are all matrices. Implement this in the most memory efficient manner. Pay attention to the following two things:\n",
    "\n",
    "1. Do not allocate new memory for the new value of $C$.\n",
    "1. Do not allocate new memory for intermediate results if possible."
   ]
  },
  {
   "cell_type": "code",
   "execution_count": null,
   "metadata": {
    "colab": {
     "base_uri": "https://localhost:8080/",
     "height": 34
    },
    "executionInfo": {
     "elapsed": 508,
     "status": "ok",
     "timestamp": 1598857692603,
     "user": {
      "displayName": "Shaannoor Mann",
      "photoUrl": "",
      "userId": "02520257695567980696"
     },
     "user_tz": 300
    },
    "id": "NRzN8HIv3Efj",
    "outputId": "ef3cc7d5-6b8c-4308-9c8a-ea0879f944d5"
   },
   "outputs": [
    {
     "data": {
      "text/plain": [
       "139695862659544"
      ]
     },
     "execution_count": 101,
     "metadata": {
      "tags": []
     },
     "output_type": "execute_result"
    }
   ],
   "source": [
    "A= torch.randn((1000, 1000),device=device)\n",
    "B= torch.randn((1000,1000),device=device)\n",
    "C= torch.randn((1000, 1000),device=device)\n",
    "id(C)"
   ]
  },
  {
   "cell_type": "code",
   "execution_count": null,
   "metadata": {
    "colab": {
     "base_uri": "https://localhost:8080/",
     "height": 34
    },
    "executionInfo": {
     "elapsed": 2192,
     "status": "ok",
     "timestamp": 1598857697087,
     "user": {
      "displayName": "Shaannoor Mann",
      "photoUrl": "",
      "userId": "02520257695567980696"
     },
     "user_tz": 300
    },
    "id": "C6XC0d70acQ0",
    "outputId": "31168139-d5ce-40a1-e9f5-f27df4280623"
   },
   "outputs": [
    {
     "data": {
      "text/plain": [
       "139695862659544"
      ]
     },
     "execution_count": 102,
     "metadata": {
      "tags": []
     },
     "output_type": "execute_result"
    }
   ],
   "source": [
    "# your code here\n",
    "\n",
    "id(C)"
   ]
  },
  {
   "cell_type": "markdown",
   "metadata": {
    "id": "8LV9o3GJ3Efp"
   },
   "source": [
    "## Question 5. Broadcast Operations - 10 Points\n",
    "\n",
    "In order to perform polynomial fitting we want to compute a design matrix $A$ with \n",
    "\n",
    "$$A_{ij} = x_i^j$$\n",
    "\n",
    "Our goal is to implement this **without a single for loop** entirely using vectorization and broadcast. Here $1 \\leq j \\leq 3$ and $x = \\{1,2,3,4,5\\}$. Implement code that generates following A matrix\n",
    "\n",
    "$$\\begin{bmatrix} 1 & 1 & 1 \\\\ 2 & 4 & 8 \\\\ 3 & 9 & 27 \\\\ 4 & 16 & 64 \\\\ 5 & 25 & 125\\end{bmatrix}$$"
   ]
  },
  {
   "cell_type": "code",
   "execution_count": null,
   "metadata": {
    "colab": {
     "base_uri": "https://localhost:8080/",
     "height": 102
    },
    "executionInfo": {
     "elapsed": 1049,
     "status": "ok",
     "timestamp": 1598857432887,
     "user": {
      "displayName": "Shaannoor Mann",
      "photoUrl": "",
      "userId": "02520257695567980696"
     },
     "user_tz": 300
    },
    "id": "cAeYDuGC3Efq",
    "outputId": "152d916a-563c-4be0-f36c-d41594033329"
   },
   "outputs": [
    {
     "name": "stdout",
     "output_type": "stream",
     "text": [
      "tensor([[  1,   1,   1],\n",
      "        [  2,   4,   8],\n",
      "        [  3,   9,  27],\n",
      "        [  4,  16,  64],\n",
      "        [  5,  25, 125]])\n"
     ]
    }
   ],
   "source": [
    "# your code here\n"
   ]
  },
  {
   "cell_type": "markdown",
   "metadata": {
    "id": "RX5yKE-t0sEn"
   },
   "source": [
    "## Question 6. Numerical Precision - 10 Points\n",
    "\n",
    "Given scalars `x` and `y`, implement the following `log_exp` function such that it returns \n",
    "$$-\\log\\left(\\frac{e^x}{e^x+e^y}\\right)$$."
   ]
  },
  {
   "cell_type": "code",
   "execution_count": null,
   "metadata": {
    "ExecuteTime": {
     "end_time": "2019-01-29T22:48:56.206890Z",
     "start_time": "2019-01-29T22:48:56.202996Z"
    },
    "id": "bWMtemrU0sEn"
   },
   "outputs": [],
   "source": [
    "#Question\n",
    "def log_exp(x, y):\n",
    "    ## add your solution here and remove pass\n",
    "   \n",
    "  pass"
   ]
  },
  {
   "cell_type": "markdown",
   "metadata": {
    "id": "2vnhIMm_0sEq"
   },
   "source": [
    "Test your codes with normal inputs:"
   ]
  },
  {
   "cell_type": "code",
   "execution_count": null,
   "metadata": {
    "ExecuteTime": {
     "end_time": "2019-01-29T22:48:56.215579Z",
     "start_time": "2019-01-29T22:48:56.209659Z"
    },
    "colab": {
     "base_uri": "https://localhost:8080/",
     "height": 34
    },
    "executionInfo": {
     "elapsed": 1055,
     "status": "ok",
     "timestamp": 1598857448476,
     "user": {
      "displayName": "Shaannoor Mann",
      "photoUrl": "",
      "userId": "02520257695567980696"
     },
     "user_tz": 300
    },
    "id": "OPTgyJUP0sEq",
    "outputId": "b85fe595-c094-4479-dde2-320af1615bdc"
   },
   "outputs": [
    {
     "data": {
      "text/plain": [
       "tensor([1.3133])"
      ]
     },
     "execution_count": 71,
     "metadata": {
      "tags": []
     },
     "output_type": "execute_result"
    }
   ],
   "source": [
    "x, y = torch.tensor([2.0]), torch.tensor([3.0])\n",
    "z = log_exp(x, y)\n",
    "z"
   ]
  },
  {
   "cell_type": "markdown",
   "metadata": {
    "id": "WIxDzHy40sEu"
   },
   "source": [
    "Now implement a function to compute $\\partial z/\\partial x$ and $\\partial z/\\partial y$ with `autograd`"
   ]
  },
  {
   "cell_type": "code",
   "execution_count": null,
   "metadata": {
    "ExecuteTime": {
     "end_time": "2019-01-29T22:48:56.223303Z",
     "start_time": "2019-01-29T22:48:56.218056Z"
    },
    "id": "7EOGdkq_0sEu"
   },
   "outputs": [],
   "source": [
    "# function should print the gradients dx and dy \n",
    "def grad(forward_func, x, y): \n",
    "  x.requires_grad_()\n",
    "  y.requires_grad_()\n",
    "  ## Add your codes here\n",
    "\n"
   ]
  },
  {
   "cell_type": "markdown",
   "metadata": {
    "id": "ySyDOwxN0sEz"
   },
   "source": [
    "Test your codes, it should print the results nicely. "
   ]
  },
  {
   "cell_type": "code",
   "execution_count": null,
   "metadata": {
    "ExecuteTime": {
     "end_time": "2019-01-29T22:48:56.267165Z",
     "start_time": "2019-01-29T22:48:56.227035Z"
    },
    "colab": {
     "base_uri": "https://localhost:8080/",
     "height": 51
    },
    "executionInfo": {
     "elapsed": 1039,
     "status": "ok",
     "timestamp": 1598857460029,
     "user": {
      "displayName": "Shaannoor Mann",
      "photoUrl": "",
      "userId": "02520257695567980696"
     },
     "user_tz": 300
    },
    "id": "nT3QgbCB0sE0",
    "outputId": "40c06af3-11b2-4b45-966e-a1f0d891bf10"
   },
   "outputs": [
    {
     "name": "stdout",
     "output_type": "stream",
     "text": [
      "x.grad = tensor([-0.7311])\n",
      "y.grad = tensor([0.7311])\n"
     ]
    }
   ],
   "source": [
    "grad(log_exp, x, y)"
   ]
  },
  {
   "cell_type": "markdown",
   "metadata": {
    "id": "fquEJMkU0sE2"
   },
   "source": [
    "But now let's try some \"hard\" inputs"
   ]
  },
  {
   "cell_type": "code",
   "execution_count": null,
   "metadata": {
    "ExecuteTime": {
     "end_time": "2019-01-29T22:48:56.285842Z",
     "start_time": "2019-01-29T22:48:56.274079Z"
    },
    "id": "MlDABmit0sE3"
   },
   "outputs": [],
   "source": [
    "x, y = torch.tensor([50.0]), torch.tensor([100.0])"
   ]
  },
  {
   "cell_type": "code",
   "execution_count": null,
   "metadata": {
    "colab": {
     "base_uri": "https://localhost:8080/",
     "height": 51
    },
    "executionInfo": {
     "elapsed": 1008,
     "status": "ok",
     "timestamp": 1598857466665,
     "user": {
      "displayName": "Shaannoor Mann",
      "photoUrl": "",
      "userId": "02520257695567980696"
     },
     "user_tz": 300
    },
    "id": "RwgzqhBmIoIi",
    "outputId": "62cba7f4-639b-48b7-aedb-825f75388588"
   },
   "outputs": [
    {
     "name": "stdout",
     "output_type": "stream",
     "text": [
      "x.grad = tensor([nan])\n",
      "y.grad = tensor([nan])\n"
     ]
    }
   ],
   "source": [
    "grad(log_exp, x, y)"
   ]
  },
  {
   "cell_type": "code",
   "execution_count": null,
   "metadata": {
    "colab": {
     "base_uri": "https://localhost:8080/",
     "height": 34
    },
    "executionInfo": {
     "elapsed": 1039,
     "status": "ok",
     "timestamp": 1598857471054,
     "user": {
      "displayName": "Shaannoor Mann",
      "photoUrl": "",
      "userId": "02520257695567980696"
     },
     "user_tz": 300
    },
    "id": "pXXpskJNByXD",
    "outputId": "99ea7e3f-dfad-4e41-a82b-c8ee4ebe2ffc"
   },
   "outputs": [
    {
     "data": {
      "text/plain": [
       "tensor([inf])"
      ]
     },
     "execution_count": 76,
     "metadata": {
      "tags": []
     },
     "output_type": "execute_result"
    }
   ],
   "source": [
    "torch.exp(torch.tensor([100.0]))"
   ]
  },
  {
   "cell_type": "markdown",
   "metadata": {
    "id": "4O97Bv7y0sE6"
   },
   "source": [
    "Does your code return correct results? If not, try to understand the reason. (Hint, evaluate `exp(100)`). Now develop a new function `stable_log_exp` that is identical to `log_exp` in math, but returns a more numerical stable result.\n",
    "<br> Hint: (1) $\\log\\left(\\frac{x}{y}\\right) = log ({x}) -log({y})$\n",
    "<br> Hint: (2) See logsum Trick - https://www.xarg.org/2016/06/the-log-sum-exp-trick-in-machine-learning/"
   ]
  },
  {
   "cell_type": "code",
   "execution_count": null,
   "metadata": {
    "ExecuteTime": {
     "end_time": "2019-01-29T22:48:56.305595Z",
     "start_time": "2019-01-29T22:48:56.293399Z"
    },
    "id": "bzNFL9jG0sE6"
   },
   "outputs": [],
   "source": [
    "def stable_log_exp(x, y):\n",
    "    ## Add your codes here)\n"
   ]
  },
  {
   "cell_type": "code",
   "execution_count": null,
   "metadata": {
    "colab": {
     "base_uri": "https://localhost:8080/",
     "height": 51
    },
    "executionInfo": {
     "elapsed": 997,
     "status": "ok",
     "timestamp": 1598857480761,
     "user": {
      "displayName": "Shaannoor Mann",
      "photoUrl": "",
      "userId": "02520257695567980696"
     },
     "user_tz": 300
    },
    "id": "NVp9w2DKH-D_",
    "outputId": "c7e1ed13-a845-4856-b1e0-586fc8a5739b"
   },
   "outputs": [
    {
     "name": "stdout",
     "output_type": "stream",
     "text": [
      "x.grad = tensor([-1.])\n",
      "y.grad = tensor([1.])\n"
     ]
    }
   ],
   "source": [
    "grad(stable_log_exp, x, y)"
   ]
  },
  {
   "cell_type": "markdown",
   "metadata": {
    "id": "Ea_kC8Jy0sE8"
   },
   "source": [
    "# Question 7. Compute Gradient Manually using Chain Rule and PyTorch Autograd - 20 Points\n",
    "## $f(x,y) = \\frac{x + \\exp(y)}{\\log(x) + (x-y)^3}$\n",
    "Compute dx and dy at x=3 and y=4"
   ]
  },
  {
   "cell_type": "code",
   "execution_count": null,
   "metadata": {
    "colab": {
     "base_uri": "https://localhost:8080/",
     "height": 34
    },
    "executionInfo": {
     "elapsed": 993,
     "status": "ok",
     "timestamp": 1598857498322,
     "user": {
      "displayName": "Shaannoor Mann",
      "photoUrl": "",
      "userId": "02520257695567980696"
     },
     "user_tz": 300
    },
    "id": "qbPUpIeSMe9N",
    "outputId": "a29f7c6f-1da5-43e1-9477-9c292a5598a5"
   },
   "outputs": [
    {
     "data": {
      "text/plain": [
       "584.0869409997873"
      ]
     },
     "execution_count": 80,
     "metadata": {
      "tags": []
     },
     "output_type": "execute_result"
    }
   ],
   "source": [
    "import math\n",
    "x = 3 # example values\n",
    "y = 4\n",
    "\n",
    "# implement forward pass here \n",
    "\n",
    "\n",
    "f"
   ]
  },
  {
   "cell_type": "code",
   "execution_count": null,
   "metadata": {
    "id": "HXm6-jU1ODs5"
   },
   "outputs": [],
   "source": [
    "# implement back propogation here "
   ]
  },
  {
   "cell_type": "code",
   "execution_count": null,
   "metadata": {
    "id": "XgW6W4CvONIs"
   },
   "outputs": [],
   "source": [
    "print(dx,dy)"
   ]
  },
  {
   "cell_type": "markdown",
   "metadata": {
    "id": "DnMwwsfH7flN"
   },
   "source": [
    "Let us check our solution using PyToch autodiff"
   ]
  },
  {
   "cell_type": "code",
   "execution_count": null,
   "metadata": {
    "colab": {
     "base_uri": "https://localhost:8080/",
     "height": 34
    },
    "executionInfo": {
     "elapsed": 528,
     "status": "ok",
     "timestamp": 1598866389423,
     "user": {
      "displayName": "Shaannoor Mann",
      "photoUrl": "",
      "userId": "02520257695567980696"
     },
     "user_tz": 300
    },
    "id": "XRZm506z4ZOt",
    "outputId": "7aa48837-65a1-4eec-d82a-a99494b33fd4"
   },
   "outputs": [
    {
     "data": {
      "text/plain": [
       "tensor(584.0868, grad_fn=<DivBackward0>)"
      ]
     },
     "execution_count": 7,
     "metadata": {
      "tags": []
     },
     "output_type": "execute_result"
    }
   ],
   "source": [
    "x= torch.tensor(3.0,requires_grad=True)\n",
    "y= torch.tensor(4.0,requires_grad=True)\n",
    "f= (x+torch.exp(y))/(torch.log(x)+(x-y)**3)\n",
    "f"
   ]
  },
  {
   "cell_type": "code",
   "execution_count": null,
   "metadata": {
    "id": "6iTUWOxV50bk"
   },
   "outputs": [],
   "source": [
    "f.backward(retain_graph=True)"
   ]
  },
  {
   "cell_type": "code",
   "execution_count": null,
   "metadata": {
    "colab": {
     "base_uri": "https://localhost:8080/",
     "height": 51
    },
    "executionInfo": {
     "elapsed": 269,
     "status": "ok",
     "timestamp": 1598866407547,
     "user": {
      "displayName": "Shaannoor Mann",
      "photoUrl": "",
      "userId": "02520257695567980696"
     },
     "user_tz": 300
    },
    "id": "NM-pCiHO53lH",
    "outputId": "21c206f7-c98a-4016-8dda-9a5e32d7212f"
   },
   "outputs": [
    {
     "name": "stdout",
     "output_type": "stream",
     "text": [
      "tensor(-19733.3984)\n"
     ]
    },
    {
     "data": {
      "text/plain": [
       "tensor(0.)"
      ]
     },
     "execution_count": 9,
     "metadata": {
      "tags": []
     },
     "output_type": "execute_result"
    }
   ],
   "source": [
    "print(x.grad)\n",
    "x.grad.data.zero_()"
   ]
  },
  {
   "cell_type": "code",
   "execution_count": null,
   "metadata": {
    "colab": {
     "base_uri": "https://localhost:8080/",
     "height": 51
    },
    "executionInfo": {
     "elapsed": 234,
     "status": "ok",
     "timestamp": 1598866411978,
     "user": {
      "displayName": "Shaannoor Mann",
      "photoUrl": "",
      "userId": "02520257695567980696"
     },
     "user_tz": 300
    },
    "id": "H1OGirA-6BEO",
    "outputId": "8ba92ca0-772f-45f9-8063-b32f87152682"
   },
   "outputs": [
    {
     "name": "stdout",
     "output_type": "stream",
     "text": [
      "tensor(18322.8496)\n"
     ]
    },
    {
     "data": {
      "text/plain": [
       "tensor(0.)"
      ]
     },
     "execution_count": 10,
     "metadata": {
      "tags": []
     },
     "output_type": "execute_result"
    }
   ],
   "source": [
    "print(y.grad)\n",
    "y.grad.data.zero_()"
   ]
  },
  {
   "cell_type": "markdown",
   "metadata": {
    "id": "Wc0prSlhfTcb"
   },
   "source": [
    "# Question 8 :  Ohm's Law - Linear Regression - - 20 Points\n",
    "Imagine that you're a young physicist, maybe named Georg Simon Ohm, trying to figure out how current and voltage depend on each other for resistors.  So you take some measurements, conveniently given to you as 'torch tensors' in Python. They are indicated by 'current' and 'voltage'.\n",
    "\n",
    "Your goal is to use gradient descent (Not minibatch gradient descent) and MSE (mean sqaure loss) to identify the coefficients for the following model. \n",
    "\n",
    " $\\mathrm{voltage} = c + r \\cdot \\mathrm{current} + q \\cdot \\mathrm{current}^2$.\n",
    "\n",
    " Implement using following approaches :\n",
    " <br>(1) Implement gradient descent from scratch using Pytorch Tensors\n",
    "  <br>(2) Use Pytorch autodiff to calculate gardients\n",
    "  <br>(3) Use Pytorch nn module for concise implementation\n",
    "\n",
    "  The data is provided in cell below,\n",
    "\n",
    "  You are not required to split data into train/test. Run the training loop till MSE is less than 10. Print model co-efficient.\n"
   ]
  },
  {
   "cell_type": "code",
   "execution_count": null,
   "metadata": {
    "id": "4I8nozkwfi2J"
   },
   "outputs": [],
   "source": [
    "current = torch.tensor([1.5420291, 1.8935232, 2.1603365, 2.5381863, 2.893443, \\\n",
    "                    3.838855, 3.925425, 4.2233696, 4.235571, 4.273397, \\\n",
    "                    4.9332876, 6.4704757, 6.517571, 6.87826, 7.0009003, \\\n",
    "                    7.035741, 7.278681, 7.7561755, 9.121138, 9.728281])\n",
    "voltage = torch.tensor([63.802246, 80.036026, 91.4903, 108.28776, 122.781975, \\\n",
    "                    161.36314, 166.50816, 176.16772, 180.29395, 179.09758, \\\n",
    "                    206.21027, 272.71857, 272.24033, 289.54745, 293.8488, \\\n",
    "                    295.2281, 306.62274, 327.93243, 383.16296, 408.65967])"
   ]
  }
 ],
 "metadata": {
  "accelerator": "GPU",
  "celltoolbar": "Slideshow",
  "colab": {
   "collapsed_sections": [],
   "machine_shape": "hm",
   "name": "Coding_Exam_2.ipynb",
   "provenance": []
  },
  "kernelspec": {
   "display_name": "Python 3",
   "language": "python",
   "name": "python3"
  },
  "language_info": {
   "codemirror_mode": {
    "name": "ipython",
    "version": 3
   },
   "file_extension": ".py",
   "mimetype": "text/x-python",
   "name": "python",
   "nbconvert_exporter": "python",
   "pygments_lexer": "ipython3",
   "version": "3.7.6"
  }
 },
 "nbformat": 4,
 "nbformat_minor": 1
}
